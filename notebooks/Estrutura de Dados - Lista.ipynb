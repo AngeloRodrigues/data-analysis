{
 "cells": [
  {
   "cell_type": "markdown",
   "metadata": {},
   "source": [
    "# Listas"
   ]
  },
  {
   "cell_type": "markdown",
   "metadata": {},
   "source": [
    "Uma lista é um conjunto de valores identificados por um índice numérico, que são separados por vírgulas e são declarados entre colchetes. Esses valores podem ser alterados individualmente."
   ]
  },
  {
   "cell_type": "markdown",
   "metadata": {},
   "source": [
    "### **Declaração da lista**"
   ]
  },
  {
   "cell_type": "code",
   "execution_count": 1,
   "metadata": {},
   "outputs": [],
   "source": [
    "lista_quadrados = [0,1,4,9,16,25] #Declarando uma lista de inteiros\n",
    "lista_mista = [1,3,5,'teste',3,5.6,True] #Listas aceitam qualquer tipo de valor (inteiro, string, float, booleano)\n",
    "lista_range = list(range(10)) #gerar uma lista de 0 a 9"
   ]
  },
  {
   "cell_type": "markdown",
   "metadata": {},
   "source": [
    "Imprimir as listas criadas acima:"
   ]
  },
  {
   "cell_type": "code",
   "execution_count": 2,
   "metadata": {},
   "outputs": [
    {
     "name": "stdout",
     "output_type": "stream",
     "text": [
      "[0, 1, 4, 9, 16, 25]\n",
      "[1, 3, 5, 'teste', 3, 5.6, True]\n",
      "[0, 1, 2, 3, 4, 5, 6, 7, 8, 9]\n"
     ]
    }
   ],
   "source": [
    "#Imprimir listas\n",
    "print(lista_quadrados)\n",
    "print(lista_mista)\n",
    "print(lista_range)"
   ]
  },
  {
   "cell_type": "markdown",
   "metadata": {},
   "source": [
    "Vamos verificar agora algumas informações sobre as nossas listas como tamanho e quantidade de um determinado elemento informado encontrada na lista:"
   ]
  },
  {
   "cell_type": "code",
   "execution_count": 3,
   "metadata": {},
   "outputs": [],
   "source": [
    "# Retornar tamanho das listas\n",
    "def retornaTamanho(lista):\n",
    "    return len(lista)\n",
    "\n",
    "# Retornar a quantidade de elemento especificado encontrada em uma determinada lista\n",
    "def retornaQuantidade(lista,elemento):\n",
    "    if elemento in lista:\n",
    "        return lista.count(elemento)\n",
    "    else:\n",
    "        return 0"
   ]
  },
  {
   "cell_type": "code",
   "execution_count": 4,
   "metadata": {},
   "outputs": [
    {
     "name": "stdout",
     "output_type": "stream",
     "text": [
      "Tamanho da lista_mista: 7\n",
      "Quantidade do elemento 10 encontrada na lista lista_mista : 2\n"
     ]
    }
   ],
   "source": [
    "# Imprimir o tamanho das listas (quantidade total de elementos)\n",
    "print('Tamanho da lista_mista: {}'.format(retornaTamanho(lista_mista)))\n",
    "\n",
    "# Imprimir a quantidade de um certo elemento informado:\n",
    "print('Quantidade do elemento {} encontrada na lista {} : {}'.format(10,'lista_mista',retornaQuantidade(lista_mista,3)))\n"
   ]
  },
  {
   "cell_type": "markdown",
   "metadata": {},
   "source": [
    "### **Acessando e alterando valores individualmente:**"
   ]
  },
  {
   "cell_type": "code",
   "execution_count": 5,
   "metadata": {},
   "outputs": [
    {
     "name": "stdout",
     "output_type": "stream",
     "text": [
      "0\n",
      "2\n"
     ]
    }
   ],
   "source": [
    "#Acessando item individualmente:\n",
    "print(lista_quadrados[0])\n",
    "\n",
    "#Alterando o valor contido no índice 2\n",
    "lista_quadrados[2] = 2 \n",
    "print(lista_quadrados[2])"
   ]
  },
  {
   "cell_type": "markdown",
   "metadata": {},
   "source": [
    "Buscando pelo índice de um valor informado:"
   ]
  },
  {
   "cell_type": "code",
   "execution_count": 6,
   "metadata": {},
   "outputs": [
    {
     "name": "stdout",
     "output_type": "stream",
     "text": [
      "4\n"
     ]
    }
   ],
   "source": [
    "print(lista_quadrados.index(16)) #Imprime o índice relativo ao elemento 16 da lista"
   ]
  },
  {
   "cell_type": "markdown",
   "metadata": {},
   "source": [
    "### **Trabalhando com identificadores, referências e cópias de uma lista**"
   ]
  },
  {
   "cell_type": "markdown",
   "metadata": {},
   "source": [
    "Obter identificador de uma lista para verificar se uma lista é referência de outra, por exemplo: "
   ]
  },
  {
   "cell_type": "code",
   "execution_count": 7,
   "metadata": {},
   "outputs": [
    {
     "name": "stdout",
     "output_type": "stream",
     "text": [
      "lista2 é referência de lista1\n"
     ]
    }
   ],
   "source": [
    "# Criando uma referência e verificando se é mesmo uma referência através da função id()\n",
    "lista1 = [2,3,4,5]\n",
    "lista2 = lista1\n",
    "\n",
    "if id(lista1) == id(lista2):\n",
    "    print('lista2 é referência de lista1')"
   ]
  },
  {
   "cell_type": "markdown",
   "metadata": {},
   "source": [
    "Copiar uma lista sem que ela seja referência de outra:"
   ]
  },
  {
   "cell_type": "code",
   "execution_count": 8,
   "metadata": {},
   "outputs": [
    {
     "name": "stdout",
     "output_type": "stream",
     "text": [
      "Lista A: [1, 2, 3]\n",
      "Lista A: [1, 2, 9]\n",
      "Lista B: [1, 2, 3]\n"
     ]
    }
   ],
   "source": [
    "#Copiando lista (B é uma cópia de A - não altera A)\n",
    "a = [1, 2, 3]\n",
    "print(\"Lista A: {}\".format(a))\n",
    "b = a[:] #Seleciona todos os elementos de A e copia para B\n",
    "a[2] = 9\n",
    "print(\"Lista A: {}\".format(a))\n",
    "print(\"Lista B: {}\".format(b))"
   ]
  },
  {
   "cell_type": "markdown",
   "metadata": {},
   "source": [
    "### **Particionando listas**"
   ]
  },
  {
   "cell_type": "code",
   "execution_count": 9,
   "metadata": {},
   "outputs": [
    {
     "name": "stdout",
     "output_type": "stream",
     "text": [
      "[0, 1, 2, 9, 16, 25]\n",
      "[2, 9]\n",
      "16\n",
      "[0, 1]\n",
      "[2, 9, 16, 25]\n",
      "[0, 1, 2, 9, 16, 25]\n"
     ]
    }
   ],
   "source": [
    "# Particionando uma lista\n",
    "print(lista_quadrados)\n",
    "print(lista_quadrados[2:4]) # Cria uma nova lista do índice 2 ao índice 3 (o 4º não será incluído)\n",
    "print(lista_quadrados[-2]) # Acessa lista a partir do final (-1 : Último item, -2 : penúltimo item)\n",
    "print(lista_quadrados[:2]) # Retorna lista com os elementos 0 e 1 (de 0 até 2)\n",
    "print(lista_quadrados[2:]) # Seleciona todos os elementos a partir da posição 2(terceiro elemento)\n",
    "print(lista_quadrados[::]) # Retorna todos os itens"
   ]
  },
  {
   "cell_type": "markdown",
   "metadata": {},
   "source": [
    "### **Manipulando listas**"
   ]
  },
  {
   "cell_type": "code",
   "execution_count": 10,
   "metadata": {},
   "outputs": [],
   "source": [
    "#Criando uma lista nova para exemplo:\n",
    "lista = []"
   ]
  },
  {
   "cell_type": "markdown",
   "metadata": {},
   "source": [
    "Adicionar um novo elemento ao fim da lista:"
   ]
  },
  {
   "cell_type": "code",
   "execution_count": 11,
   "metadata": {},
   "outputs": [
    {
     "data": {
      "text/plain": [
       "['teste']"
      ]
     },
     "execution_count": 11,
     "metadata": {},
     "output_type": "execute_result"
    }
   ],
   "source": [
    "lista.append('teste')\n",
    "lista"
   ]
  },
  {
   "cell_type": "markdown",
   "metadata": {},
   "source": [
    "Ampliar uma lista, concatenando uma nova lista informada por parâmetro:"
   ]
  },
  {
   "cell_type": "code",
   "execution_count": 12,
   "metadata": {},
   "outputs": [
    {
     "data": {
      "text/plain": [
       "['teste', 22, 'abc']"
      ]
     },
     "execution_count": 12,
     "metadata": {},
     "output_type": "execute_result"
    }
   ],
   "source": [
    "lista.extend([22,'abc'])\n",
    "lista"
   ]
  },
  {
   "cell_type": "markdown",
   "metadata": {},
   "source": [
    "Remover um elemento de uma certa posição da lista:"
   ]
  },
  {
   "cell_type": "code",
   "execution_count": 13,
   "metadata": {},
   "outputs": [
    {
     "name": "stdout",
     "output_type": "stream",
     "text": [
      "Estado da lista atualmente: ['teste', 22]\n"
     ]
    }
   ],
   "source": [
    "# OBS: Ao tentar excluir um item em uma posição não existente, dará erro. Somente o try/catch evita esse erro.\n",
    "try:\n",
    "    del lista[2]\n",
    "except:\n",
    "    print('Não foi possível remover - A posição informada não existe!')\n",
    "\n",
    "print('Estado da lista atualmente: {}'.format(lista))"
   ]
  },
  {
   "cell_type": "markdown",
   "metadata": {},
   "source": [
    "Verificar se um elemento pertence a lista:"
   ]
  },
  {
   "cell_type": "code",
   "execution_count": 14,
   "metadata": {},
   "outputs": [
    {
     "data": {
      "text/plain": [
       "True"
      ]
     },
     "execution_count": 14,
     "metadata": {},
     "output_type": "execute_result"
    }
   ],
   "source": [
    "22 in lista"
   ]
  },
  {
   "cell_type": "markdown",
   "metadata": {},
   "source": [
    "Remover um elemento através de seu valor"
   ]
  },
  {
   "cell_type": "code",
   "execution_count": 15,
   "metadata": {},
   "outputs": [
    {
     "name": "stdout",
     "output_type": "stream",
     "text": [
      "Erro! O valor informado é inexistente na lista\n",
      "Estado da lista atualmente: ['teste', 22]\n"
     ]
    }
   ],
   "source": [
    "if 'abc' in lista:\n",
    "    lista.remove('abc')\n",
    "else:\n",
    "    print('Erro! O valor informado é inexistente na lista')\n",
    "    \n",
    "print('Estado da lista atualmente: {}'.format(lista))"
   ]
  },
  {
   "cell_type": "markdown",
   "metadata": {},
   "source": [
    "### **Lista como parâmetro em funções**"
   ]
  },
  {
   "cell_type": "code",
   "execution_count": 16,
   "metadata": {},
   "outputs": [
    {
     "data": {
      "text/plain": [
       "[1, 2, 3, 4, 5]"
      ]
     },
     "execution_count": 16,
     "metadata": {},
     "output_type": "execute_result"
    }
   ],
   "source": [
    "# Não irá alterar o conteúdo da lista fora da função caso ela não seja retornada pela função\n",
    "teste = [1,2,3,4,5]\n",
    "\n",
    "def alteraLista(teste):\n",
    "    teste[2] = 6\n",
    "teste"
   ]
  },
  {
   "cell_type": "code",
   "execution_count": 17,
   "metadata": {},
   "outputs": [
    {
     "data": {
      "text/plain": [
       "[1, 2, 6, 4, 5]"
      ]
     },
     "execution_count": 17,
     "metadata": {},
     "output_type": "execute_result"
    }
   ],
   "source": [
    "# Alterando dados da lista\n",
    "teste = [1,2,3,4,5]\n",
    "\n",
    "def alteraLista(teste):\n",
    "    teste[2] = 6\n",
    "    return teste\n",
    "\n",
    "teste = alteraLista(teste)\n",
    "teste"
   ]
  },
  {
   "cell_type": "markdown",
   "metadata": {},
   "source": [
    "### **Listas Aninhadas**"
   ]
  },
  {
   "cell_type": "markdown",
   "metadata": {},
   "source": [
    "São simplesmente listas que podem possuir outras listas como elementos:"
   ]
  },
  {
   "cell_type": "code",
   "execution_count": 18,
   "metadata": {},
   "outputs": [
    {
     "data": {
      "text/plain": [
       "[['rosa', 'azul', 'verde'], ['maçã', 'laranja', 'morango'], [10, 100, 1000]]"
      ]
     },
     "execution_count": 18,
     "metadata": {},
     "output_type": "execute_result"
    }
   ],
   "source": [
    "lista_aninhada = [['rosa','azul','verde'],['maçã','laranja','morango'],[10,100,1000]]\n",
    "lista_aninhada"
   ]
  },
  {
   "cell_type": "markdown",
   "metadata": {},
   "source": [
    "Acessar a primeira lista contida na lista_aninhada:"
   ]
  },
  {
   "cell_type": "code",
   "execution_count": 19,
   "metadata": {},
   "outputs": [
    {
     "data": {
      "text/plain": [
       "['rosa', 'azul', 'verde']"
      ]
     },
     "execution_count": 19,
     "metadata": {},
     "output_type": "execute_result"
    }
   ],
   "source": [
    "lista_aninhada[0]"
   ]
  },
  {
   "cell_type": "markdown",
   "metadata": {},
   "source": [
    "Acessar o primeiro elemento da primeira lista contida na lista_aninhada:"
   ]
  },
  {
   "cell_type": "code",
   "execution_count": 20,
   "metadata": {},
   "outputs": [
    {
     "data": {
      "text/plain": [
       "'rosa'"
      ]
     },
     "execution_count": 20,
     "metadata": {},
     "output_type": "execute_result"
    }
   ],
   "source": [
    "lista_aninhada[0][0]"
   ]
  },
  {
   "cell_type": "markdown",
   "metadata": {},
   "source": [
    "### **Ordenação de listas**"
   ]
  },
  {
   "cell_type": "markdown",
   "metadata": {},
   "source": [
    "Podemos ordenar de forma ascendente ou descendente os valores da lista:"
   ]
  },
  {
   "cell_type": "code",
   "execution_count": 21,
   "metadata": {},
   "outputs": [],
   "source": [
    "L = [4,6,3,9,1,2,3,13,3]\n",
    "P = ['casa', 'rio', 'lua', 'agua', 'aguia', 'mato']"
   ]
  },
  {
   "cell_type": "code",
   "execution_count": 22,
   "metadata": {},
   "outputs": [],
   "source": [
    "# Ordenar as listas de forma ascendente\n",
    "L.sort()\n",
    "P.sort() #OBS: Só funciona com palavras não-acentuadas"
   ]
  },
  {
   "cell_type": "code",
   "execution_count": 23,
   "metadata": {},
   "outputs": [
    {
     "name": "stdout",
     "output_type": "stream",
     "text": [
      "lista L ordenada: [1, 2, 3, 3, 3, 4, 6, 9, 13]\n",
      "lista P ordenada: ['agua', 'aguia', 'casa', 'lua', 'mato', 'rio']\n"
     ]
    }
   ],
   "source": [
    "print('lista L ordenada: {}'.format(L))\n",
    "print('lista P ordenada: {}'.format(P))"
   ]
  },
  {
   "cell_type": "markdown",
   "metadata": {},
   "source": [
    "Ordenar de forma descendente:"
   ]
  },
  {
   "cell_type": "code",
   "execution_count": 24,
   "metadata": {},
   "outputs": [],
   "source": [
    "P.sort(reverse=True)\n",
    "L.sort(reverse=True)"
   ]
  },
  {
   "cell_type": "code",
   "execution_count": 25,
   "metadata": {},
   "outputs": [
    {
     "name": "stdout",
     "output_type": "stream",
     "text": [
      "lista L ordenada: [13, 9, 6, 4, 3, 3, 3, 2, 1]\n",
      "lista P ordenada: ['rio', 'mato', 'lua', 'casa', 'aguia', 'agua']\n"
     ]
    }
   ],
   "source": [
    "print('lista L ordenada: {}'.format(L))\n",
    "print('lista P ordenada: {}'.format(P))"
   ]
  },
  {
   "cell_type": "markdown",
   "metadata": {},
   "source": [
    "### **Funções para encontrar o maior, menor e soma de valores**"
   ]
  },
  {
   "cell_type": "code",
   "execution_count": 26,
   "metadata": {},
   "outputs": [
    {
     "name": "stdout",
     "output_type": "stream",
     "text": [
      "Menor: 1\n",
      "Maior: 13\n",
      "Soma total: 44\n"
     ]
    }
   ],
   "source": [
    "print('Menor: {}'.format(min(L))) # Retorna menor número da lista\n",
    "print('Maior: {}'.format(max(L))) # Retorna maior número da lista\n",
    "print('Soma total: {}'.format(sum(L))) # Soma todos os valores da lista"
   ]
  }
 ],
 "metadata": {
  "kernelspec": {
   "display_name": "Python 3",
   "language": "python",
   "name": "python3"
  },
  "language_info": {
   "codemirror_mode": {
    "name": "ipython",
    "version": 3
   },
   "file_extension": ".py",
   "mimetype": "text/x-python",
   "name": "python",
   "nbconvert_exporter": "python",
   "pygments_lexer": "ipython3",
   "version": "3.7.0"
  }
 },
 "nbformat": 4,
 "nbformat_minor": 2
}
