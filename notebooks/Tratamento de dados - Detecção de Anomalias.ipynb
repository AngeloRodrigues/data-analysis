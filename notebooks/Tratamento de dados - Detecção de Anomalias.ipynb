{
 "cells": [
  {
   "cell_type": "markdown",
   "metadata": {},
   "source": [
    "# Tratamento de dados - Detecção de Anomalias"
   ]
  },
  {
   "cell_type": "markdown",
   "metadata": {},
   "source": [
    "Trabalharemos nesse exemplo com um dataset de gorgetas fornecido pela biblioteca Seaborn. Outros exemplos de datasets podem ser encontrados no link: [Datasets Seaborn](https://github.com/mwaskom/seaborn-data)"
   ]
  },
  {
   "cell_type": "code",
   "execution_count": 45,
   "metadata": {},
   "outputs": [],
   "source": [
    "#Importação de bibliotecas\n",
    "import numpy as np\n",
    "import seaborn as sns\n",
    "import pandas as pd"
   ]
  },
  {
   "cell_type": "code",
   "execution_count": 2,
   "metadata": {},
   "outputs": [],
   "source": [
    "# Leitura dos dados do dataset\n",
    "sns.set(style=\"whitegrid\")\n",
    "tips = sns.load_dataset(\"tips\")"
   ]
  },
  {
   "cell_type": "markdown",
   "metadata": {},
   "source": [
    "## Visualizando informações importantes sobre o Dataset"
   ]
  },
  {
   "cell_type": "code",
   "execution_count": 3,
   "metadata": {},
   "outputs": [
    {
     "name": "stdout",
     "output_type": "stream",
     "text": [
      "<class 'pandas.core.frame.DataFrame'>\n",
      "RangeIndex: 244 entries, 0 to 243\n",
      "Data columns (total 7 columns):\n",
      "total_bill    244 non-null float64\n",
      "tip           244 non-null float64\n",
      "sex           244 non-null category\n",
      "smoker        244 non-null category\n",
      "day           244 non-null category\n",
      "time          244 non-null category\n",
      "size          244 non-null int64\n",
      "dtypes: category(4), float64(2), int64(1)\n",
      "memory usage: 7.2 KB\n"
     ]
    }
   ],
   "source": [
    "# Descrição dos campos e tipos (Total da conta, gorgeta, sexo, fumante, dia, hora (almoço/jantar), tamanho)\n",
    "tips.info()"
   ]
  },
  {
   "cell_type": "markdown",
   "metadata": {},
   "source": [
    "## Tratamento de dados"
   ]
  },
  {
   "cell_type": "markdown",
   "metadata": {},
   "source": [
    "Vamos verificar quais e quantas colunas estão nulas/vazias:"
   ]
  },
  {
   "cell_type": "code",
   "execution_count": 4,
   "metadata": {},
   "outputs": [
    {
     "data": {
      "text/plain": [
       "total_bill    0\n",
       "tip           0\n",
       "sex           0\n",
       "smoker        0\n",
       "day           0\n",
       "time          0\n",
       "size          0\n",
       "dtype: int64"
      ]
     },
     "execution_count": 4,
     "metadata": {},
     "output_type": "execute_result"
    }
   ],
   "source": [
    "# Visualização das colunas que se encontram vazias/nulas e a quantidade de linhas que possuem esses valores vazios\n",
    "tips.isnull().sum()"
   ]
  },
  {
   "cell_type": "markdown",
   "metadata": {},
   "source": [
    "Não há colunas vazias nesse exemplo, ótimo, podemos prosseguir:"
   ]
  },
  {
   "cell_type": "markdown",
   "metadata": {},
   "source": [
    "### Visualizando os valores anômalos"
   ]
  },
  {
   "cell_type": "markdown",
   "metadata": {},
   "source": [
    "Para visualizar e identificar os dados anômalos, usaremos o diagrama de caixas, ou **boxplot**. Através desse diagrama conseguimos ver o quão distante da média e dos limites esse valor se encontra:"
   ]
  },
  {
   "cell_type": "code",
   "execution_count": 5,
   "metadata": {},
   "outputs": [
    {
     "data": {
      "text/html": [
       "<img src=\"images/boxplot.png\",width=10,height=10>\n"
      ],
      "text/plain": [
       "<IPython.core.display.HTML object>"
      ]
     },
     "metadata": {},
     "output_type": "display_data"
    }
   ],
   "source": [
    "%%html\n",
    "<img src=\"images/boxplot.png\",width=10,height=10>"
   ]
  },
  {
   "cell_type": "code",
   "execution_count": 6,
   "metadata": {},
   "outputs": [
    {
     "data": {
      "image/png": "[encoded data removed]",
      "text/plain": [
       "<Figure size 432x288 with 1 Axes>"
      ]
     },
     "metadata": {},
     "output_type": "display_data"
    }
   ],
   "source": [
    "%matplotlib inline\n",
    "sns.set(style=\"whitegrid\", color_codes=True)\n",
    "sns.boxplot(data=tips);"
   ]
  },
  {
   "cell_type": "markdown",
   "metadata": {},
   "source": [
    "Com esse gráfico, o boxplot, podemos perceber que em todas as colunas numéricas existem valores muito acima do limite superior, ou seja, são **discrepantes** <br>\n",
    "Para estudar essas discrepâncias, precisamos seguir alguns passos:"
   ]
  },
  {
   "cell_type": "markdown",
   "metadata": {},
   "source": [
    "### Vamos trabalhar primeiro com o valor total da conta (total_bill):"
   ]
  },
  {
   "cell_type": "code",
   "execution_count": 7,
   "metadata": {},
   "outputs": [],
   "source": [
    "total = np.array(tips['total_bill'])"
   ]
  },
  {
   "cell_type": "markdown",
   "metadata": {},
   "source": [
    "**1º Passo -** Encontrar o valor da média dos dados:"
   ]
  },
  {
   "cell_type": "code",
   "execution_count": 8,
   "metadata": {},
   "outputs": [
    {
     "data": {
      "text/plain": [
       "19.78594262295082"
      ]
     },
     "execution_count": 8,
     "metadata": {},
     "output_type": "execute_result"
    }
   ],
   "source": [
    "media = np.mean(total, axis=0) \n",
    "media"
   ]
  },
  {
   "cell_type": "markdown",
   "metadata": {},
   "source": [
    "**2º Passo -** Encontrar o valor do desvio padrão dos dados:"
   ]
  },
  {
   "cell_type": "code",
   "execution_count": 9,
   "metadata": {},
   "outputs": [
    {
     "data": {
      "text/plain": [
       "8.884150577771132"
      ]
     },
     "execution_count": 9,
     "metadata": {},
     "output_type": "execute_result"
    }
   ],
   "source": [
    "desvio_padrao = np.std(total, axis=0) #Somente 1 coluna = axis 0\n",
    "desvio_padrao"
   ]
  },
  {
   "cell_type": "markdown",
   "metadata": {},
   "source": [
    "**Definição de regras para considerar o valor como anômalo:** Para ser anômalo, o valor deve ser menor que (media - 2 * desvio_padrao )  e deve ser maior que (media + 2 * desvio_padrao ), o intervalo entre esses valores são os valores válidos:"
   ]
  },
  {
   "cell_type": "markdown",
   "metadata": {},
   "source": [
    "- Definição da fronteira menor: Valor mínimo permitido"
   ]
  },
  {
   "cell_type": "code",
   "execution_count": 10,
   "metadata": {},
   "outputs": [
    {
     "data": {
      "text/plain": [
       "2.0176414674085557"
      ]
     },
     "execution_count": 10,
     "metadata": {},
     "output_type": "execute_result"
    }
   ],
   "source": [
    "fronteira_menor = (media - (2 * desvio_padrao))\n",
    "fronteira_menor"
   ]
  },
  {
   "cell_type": "markdown",
   "metadata": {},
   "source": [
    "- Definição da fronteira maior: Valor máximo permitido"
   ]
  },
  {
   "cell_type": "code",
   "execution_count": 11,
   "metadata": {},
   "outputs": [
    {
     "data": {
      "text/plain": [
       "37.55424377849309"
      ]
     },
     "execution_count": 11,
     "metadata": {},
     "output_type": "execute_result"
    }
   ],
   "source": [
    "fronteira_maior = (media + (2 * desvio_padrao))\n",
    "fronteira_maior"
   ]
  },
  {
   "cell_type": "markdown",
   "metadata": {},
   "source": [
    "Vamos quantificar agora os valores que estão abaixo da fronteira menor:"
   ]
  },
  {
   "cell_type": "code",
   "execution_count": 12,
   "metadata": {},
   "outputs": [
    {
     "name": "stdout",
     "output_type": "stream",
     "text": [
      "Quantidade de valores abaixo da fronteira menor: 0\n"
     ]
    }
   ],
   "source": [
    "print('Quantidade de valores abaixo da fronteira menor: {}'.format(len(total[total < fronteira_menor])))"
   ]
  },
  {
   "cell_type": "markdown",
   "metadata": {},
   "source": [
    "Vamos quantidicar os valores que estão acima da fronteira maior:"
   ]
  },
  {
   "cell_type": "code",
   "execution_count": 13,
   "metadata": {},
   "outputs": [
    {
     "name": "stdout",
     "output_type": "stream",
     "text": [
      "Quantidade de valores acima da fronteira maior: 14\n"
     ]
    }
   ],
   "source": [
    "print('Quantidade de valores acima da fronteira maior: {}'.format(len(total[total > fronteira_maior])))"
   ]
  },
  {
   "cell_type": "markdown",
   "metadata": {},
   "source": [
    "Esse problema pode ser resolvido de três formas:\n",
    "- Substituir os valores acima/abaixo das fronteiras pela média <br>\n",
    "- Calcular esses valores com alguma fórmula como a fórmula de Mahalanobis, que calcula a distância de um ponto p a uam distribuição multivariada por exemplo, e substituir os valores anômalos pelo da distância.\n",
    "- Remover esses valores"
   ]
  },
  {
   "cell_type": "markdown",
   "metadata": {},
   "source": [
    "Nesse caso iremos utilizar a segunda solução mais fácil e mais viável para o problema, que é substituir esses valores pela média, pois trata-se de muitos valores a serem excluídos, o que poderia onerar bastante a base:"
   ]
  },
  {
   "cell_type": "code",
   "execution_count": 14,
   "metadata": {},
   "outputs": [
    {
     "data": {
      "text/plain": [
       "19.78594262295082"
      ]
     },
     "execution_count": 14,
     "metadata": {},
     "output_type": "execute_result"
    }
   ],
   "source": [
    "# Cálculo da média\n",
    "media = np.mean(total)\n",
    "media"
   ]
  },
  {
   "cell_type": "code",
   "execution_count": 15,
   "metadata": {},
   "outputs": [],
   "source": [
    "# Preenchimento dos valores maiores que a fronteira_maior com a média\n",
    "total[total > fronteira_maior] = media"
   ]
  },
  {
   "cell_type": "code",
   "execution_count": 16,
   "metadata": {},
   "outputs": [],
   "source": [
    "# Preenchimento dos valores menores que a fronteira_menor com a média\n",
    "total[total < fronteira_menor] = media"
   ]
  },
  {
   "cell_type": "code",
   "execution_count": 17,
   "metadata": {},
   "outputs": [],
   "source": [
    "# Atualizar no dataset\n",
    "tips['total_bill'] = total"
   ]
  },
  {
   "cell_type": "markdown",
   "metadata": {},
   "source": [
    "Agora plotaremos novamente o boxplot para visualizar sua distribuição:"
   ]
  },
  {
   "cell_type": "code",
   "execution_count": 18,
   "metadata": {},
   "outputs": [
    {
     "data": {
      "image/png": "[encoded data removed]",
      "text/plain": [
       "<Figure size 432x288 with 1 Axes>"
      ]
     },
     "metadata": {},
     "output_type": "display_data"
    }
   ],
   "source": [
    "%matplotlib inline\n",
    "sns.set(style=\"whitegrid\", color_codes=True)\n",
    "sns.boxplot(data=total);"
   ]
  },
  {
   "cell_type": "code",
   "execution_count": 19,
   "metadata": {},
   "outputs": [
    {
     "data": {
      "text/plain": [
       "array([16.99      , 10.34      , 21.01      , 23.68      , 24.59      ,\n",
       "       25.29      ,  8.77      , 26.88      , 15.04      , 14.78      ,\n",
       "       10.27      , 35.26      , 15.42      , 18.43      , 14.83      ,\n",
       "       21.58      , 10.33      , 16.29      , 16.97      , 20.65      ,\n",
       "       17.92      , 20.29      , 15.77      , 19.78594262, 19.82      ,\n",
       "       17.81      , 13.37      , 12.69      , 21.7       , 19.65      ,\n",
       "        9.55      , 18.35      , 15.06      , 20.69      , 17.78      ,\n",
       "       24.06      , 16.31      , 16.93      , 18.69      , 31.27      ,\n",
       "       16.04      , 17.46      , 13.94      ,  9.68      , 30.4       ,\n",
       "       18.29      , 22.23      , 32.4       , 28.55      , 18.04      ,\n",
       "       12.54      , 10.29      , 34.81      ,  9.94      , 25.56      ,\n",
       "       19.49      , 19.78594262, 26.41      , 11.24      , 19.78594262,\n",
       "       20.29      , 13.81      , 11.02      , 18.29      , 17.59      ,\n",
       "       20.08      , 16.45      ,  3.07      , 20.23      , 15.01      ,\n",
       "       12.02      , 17.07      , 26.86      , 25.28      , 14.73      ,\n",
       "       10.51      , 17.92      , 27.2       , 22.76      , 17.29      ,\n",
       "       19.44      , 16.66      , 10.07      , 32.68      , 15.98      ,\n",
       "       34.83      , 13.03      , 18.28      , 24.71      , 21.16      ,\n",
       "       28.97      , 22.49      ,  5.75      , 16.32      , 22.75      ,\n",
       "       19.78594262, 27.28      , 12.03      , 21.01      , 12.46      ,\n",
       "       11.35      , 15.38      , 19.78594262, 22.42      , 20.92      ,\n",
       "       15.36      , 20.49      , 25.21      , 18.24      , 14.31      ,\n",
       "       14.        ,  7.25      , 19.78594262, 23.95      , 25.71      ,\n",
       "       17.31      , 29.93      , 10.65      , 12.43      , 24.08      ,\n",
       "       11.69      , 13.42      , 14.26      , 15.95      , 12.48      ,\n",
       "       29.8       ,  8.52      , 14.52      , 11.38      , 22.82      ,\n",
       "       19.08      , 20.27      , 11.17      , 12.26      , 18.26      ,\n",
       "        8.51      , 10.33      , 14.15      , 16.        , 13.16      ,\n",
       "       17.47      , 34.3       , 19.78594262, 27.05      , 16.43      ,\n",
       "        8.35      , 18.64      , 11.87      ,  9.78      ,  7.51      ,\n",
       "       14.07      , 13.13      , 17.26      , 24.55      , 19.77      ,\n",
       "       29.85      , 19.78594262, 25.        , 13.39      , 16.49      ,\n",
       "       21.5       , 12.66      , 16.21      , 13.81      , 17.51      ,\n",
       "       24.52      , 20.76      , 31.71      , 10.59      , 10.63      ,\n",
       "       19.78594262, 15.81      ,  7.25      , 31.85      , 16.82      ,\n",
       "       32.9       , 17.89      , 14.48      ,  9.6       , 34.63      ,\n",
       "       34.65      , 23.33      , 19.78594262, 23.17      , 19.78594262,\n",
       "       20.69      , 20.9       , 30.46      , 18.15      , 23.1       ,\n",
       "       15.69      , 19.81      , 28.44      , 15.48      , 16.58      ,\n",
       "        7.56      , 10.34      , 19.78594262, 13.        , 13.51      ,\n",
       "       18.71      , 12.74      , 13.        , 16.4       , 20.53      ,\n",
       "       16.47      , 26.59      , 19.78594262, 24.27      , 12.76      ,\n",
       "       30.06      , 25.89      , 19.78594262, 13.27      , 28.17      ,\n",
       "       12.9       , 28.15      , 11.59      ,  7.74      , 30.14      ,\n",
       "       12.16      , 13.42      ,  8.58      , 15.98      , 13.42      ,\n",
       "       16.27      , 10.09      , 20.45      , 13.28      , 22.12      ,\n",
       "       24.01      , 15.69      , 11.61      , 10.77      , 15.53      ,\n",
       "       10.07      , 12.6       , 32.83      , 35.83      , 29.03      ,\n",
       "       27.18      , 22.67      , 17.82      , 18.78      ])"
      ]
     },
     "execution_count": 19,
     "metadata": {},
     "output_type": "execute_result"
    }
   ],
   "source": [
    "total"
   ]
  },
  {
   "cell_type": "markdown",
   "metadata": {},
   "source": [
    "### Agora trabalharemos com a gorgeta (tip):"
   ]
  },
  {
   "cell_type": "code",
   "execution_count": 20,
   "metadata": {},
   "outputs": [],
   "source": [
    "tip = np.array(tips['tip'])"
   ]
  },
  {
   "cell_type": "markdown",
   "metadata": {},
   "source": [
    "**1º Passo -** Encontrar o valor da média dos dados:"
   ]
  },
  {
   "cell_type": "code",
   "execution_count": 21,
   "metadata": {},
   "outputs": [
    {
     "data": {
      "text/plain": [
       "2.99827868852459"
      ]
     },
     "execution_count": 21,
     "metadata": {},
     "output_type": "execute_result"
    }
   ],
   "source": [
    "media = np.mean(tip, axis=0) \n",
    "media"
   ]
  },
  {
   "cell_type": "markdown",
   "metadata": {},
   "source": [
    "**2º Passo -** Encontrar o valor do desvio padrão dos dados:"
   ]
  },
  {
   "cell_type": "code",
   "execution_count": 22,
   "metadata": {},
   "outputs": [
    {
     "data": {
      "text/plain": [
       "1.3807999538298954"
      ]
     },
     "execution_count": 22,
     "metadata": {},
     "output_type": "execute_result"
    }
   ],
   "source": [
    "desvio_padrao = np.std(tip, axis=0) #Somente 1 coluna = axis 0\n",
    "desvio_padrao"
   ]
  },
  {
   "cell_type": "markdown",
   "metadata": {},
   "source": [
    "- Definição da fronteira menor: Valor mínimo permitido"
   ]
  },
  {
   "cell_type": "code",
   "execution_count": 23,
   "metadata": {},
   "outputs": [
    {
     "data": {
      "text/plain": [
       "0.236678780864799"
      ]
     },
     "execution_count": 23,
     "metadata": {},
     "output_type": "execute_result"
    }
   ],
   "source": [
    "fronteira_menor = (media - (2 * desvio_padrao))\n",
    "fronteira_menor"
   ]
  },
  {
   "cell_type": "markdown",
   "metadata": {},
   "source": [
    "- Definição da fronteira maior: Valor máximo permitido"
   ]
  },
  {
   "cell_type": "code",
   "execution_count": 24,
   "metadata": {},
   "outputs": [
    {
     "data": {
      "text/plain": [
       "5.759878596184381"
      ]
     },
     "execution_count": 24,
     "metadata": {},
     "output_type": "execute_result"
    }
   ],
   "source": [
    "fronteira_maior = (media + (2 * desvio_padrao))\n",
    "fronteira_maior"
   ]
  },
  {
   "cell_type": "markdown",
   "metadata": {},
   "source": [
    "Vamos quantificar agora os valores que estão abaixo da fronteira menor:"
   ]
  },
  {
   "cell_type": "code",
   "execution_count": 25,
   "metadata": {},
   "outputs": [
    {
     "name": "stdout",
     "output_type": "stream",
     "text": [
      "Quantidade de valores abaixo da fronteira menor: 0\n"
     ]
    }
   ],
   "source": [
    "print('Quantidade de valores abaixo da fronteira menor: {}'.format(len(tip[tip < fronteira_menor])))"
   ]
  },
  {
   "cell_type": "markdown",
   "metadata": {},
   "source": [
    "Vamos quantidicar os valores que estão acima da fronteira maior:"
   ]
  },
  {
   "cell_type": "code",
   "execution_count": 26,
   "metadata": {},
   "outputs": [
    {
     "name": "stdout",
     "output_type": "stream",
     "text": [
      "Quantidade de valores acima da fronteira maior: 10\n"
     ]
    }
   ],
   "source": [
    "print('Quantidade de valores acima da fronteira maior: {}'.format(len(tip[tip > fronteira_maior])))"
   ]
  },
  {
   "cell_type": "code",
   "execution_count": 27,
   "metadata": {},
   "outputs": [
    {
     "data": {
      "text/plain": [
       "2.99827868852459"
      ]
     },
     "execution_count": 27,
     "metadata": {},
     "output_type": "execute_result"
    }
   ],
   "source": [
    "# Cálculo da média\n",
    "media = np.mean(tip)\n",
    "media"
   ]
  },
  {
   "cell_type": "code",
   "execution_count": 28,
   "metadata": {},
   "outputs": [],
   "source": [
    "# Preenchimento dos valores maiores que a fronteira_maior com a média\n",
    "tip[tip >= fronteira_maior] = media"
   ]
  },
  {
   "cell_type": "code",
   "execution_count": 29,
   "metadata": {},
   "outputs": [],
   "source": [
    "# Atualizar no dataset\n",
    "tips['tip'] = tip"
   ]
  },
  {
   "cell_type": "code",
   "execution_count": 30,
   "metadata": {},
   "outputs": [
    {
     "data": {
      "image/png": "[encoded data removed]",
      "text/plain": [
       "<Figure size 432x288 with 1 Axes>"
      ]
     },
     "metadata": {},
     "output_type": "display_data"
    }
   ],
   "source": [
    "%matplotlib inline\n",
    "sns.set(style=\"whitegrid\", color_codes=True)\n",
    "sns.boxplot(data=tip);"
   ]
  },
  {
   "cell_type": "code",
   "execution_count": 31,
   "metadata": {},
   "outputs": [
    {
     "data": {
      "text/plain": [
       "array([1.01      , 1.66      , 3.5       , 3.31      , 3.61      ,\n",
       "       4.71      , 2.        , 3.12      , 1.96      , 3.23      ,\n",
       "       1.71      , 5.        , 1.57      , 3.        , 3.02      ,\n",
       "       3.92      , 1.67      , 3.71      , 3.5       , 3.35      ,\n",
       "       4.08      , 2.75      , 2.23      , 2.99827869, 3.18      ,\n",
       "       2.34      , 2.        , 2.        , 4.3       , 3.        ,\n",
       "       1.45      , 2.5       , 3.        , 2.45      , 3.27      ,\n",
       "       3.6       , 2.        , 3.07      , 2.31      , 5.        ,\n",
       "       2.24      , 2.54      , 3.06      , 1.32      , 5.6       ,\n",
       "       3.        , 5.        , 2.99827869, 2.05      , 3.        ,\n",
       "       2.5       , 2.6       , 5.2       , 1.56      , 4.34      ,\n",
       "       3.51      , 3.        , 1.5       , 1.76      , 2.99827869,\n",
       "       3.21      , 2.        , 1.98      , 3.76      , 2.64      ,\n",
       "       3.15      , 2.47      , 1.        , 2.01      , 2.09      ,\n",
       "       1.97      , 3.        , 3.14      , 5.        , 2.2       ,\n",
       "       1.25      , 3.08      , 4.        , 3.        , 2.71      ,\n",
       "       3.        , 3.4       , 1.83      , 5.        , 2.03      ,\n",
       "       5.17      , 2.        , 4.        , 2.99827869, 3.        ,\n",
       "       3.        , 3.5       , 1.        , 4.3       , 3.25      ,\n",
       "       4.73      , 4.        , 1.5       , 3.        , 1.5       ,\n",
       "       2.5       , 3.        , 2.5       , 3.48      , 4.08      ,\n",
       "       1.64      , 4.06      , 4.29      , 3.76      , 4.        ,\n",
       "       3.        , 1.        , 4.        , 2.55      , 4.        ,\n",
       "       3.5       , 5.07      , 1.5       , 1.8       , 2.92      ,\n",
       "       2.31      , 1.68      , 2.5       , 2.        , 2.52      ,\n",
       "       4.2       , 1.48      , 2.        , 2.        , 2.18      ,\n",
       "       1.5       , 2.83      , 1.5       , 2.        , 3.25      ,\n",
       "       1.25      , 2.        , 2.        , 2.        , 2.75      ,\n",
       "       3.5       , 2.99827869, 5.        , 5.        , 2.3       ,\n",
       "       1.5       , 1.36      , 1.63      , 1.73      , 2.        ,\n",
       "       2.5       , 2.        , 2.74      , 2.        , 2.        ,\n",
       "       5.14      , 5.        , 3.75      , 2.61      , 2.        ,\n",
       "       3.5       , 2.5       , 2.        , 2.        , 3.        ,\n",
       "       3.48      , 2.24      , 4.5       , 1.61      , 2.        ,\n",
       "       2.99827869, 3.16      , 5.15      , 3.18      , 4.        ,\n",
       "       3.11      , 2.        , 2.        , 4.        , 3.55      ,\n",
       "       3.68      , 5.65      , 3.5       , 2.99827869, 3.        ,\n",
       "       5.        , 3.5       , 2.        , 3.5       , 4.        ,\n",
       "       1.5       , 4.19      , 2.56      , 2.02      , 4.        ,\n",
       "       1.44      , 2.        , 5.        , 2.        , 2.        ,\n",
       "       4.        , 2.01      , 2.        , 2.5       , 4.        ,\n",
       "       3.23      , 3.41      , 3.        , 2.03      , 2.23      ,\n",
       "       2.        , 5.16      , 2.99827869, 2.5       , 2.99827869,\n",
       "       1.1       , 3.        , 1.5       , 1.44      , 3.09      ,\n",
       "       2.2       , 3.48      , 1.92      , 3.        , 1.58      ,\n",
       "       2.5       , 2.        , 3.        , 2.72      , 2.88      ,\n",
       "       2.        , 3.        , 3.39      , 1.47      , 3.        ,\n",
       "       1.25      , 1.        , 1.17      , 4.67      , 2.99827869,\n",
       "       2.        , 2.        , 1.75      , 3.        ])"
      ]
     },
     "execution_count": 31,
     "metadata": {},
     "output_type": "execute_result"
    }
   ],
   "source": [
    "tip"
   ]
  },
  {
   "cell_type": "markdown",
   "metadata": {},
   "source": [
    "### Agora, a coluna size (tamanho):"
   ]
  },
  {
   "cell_type": "code",
   "execution_count": 32,
   "metadata": {},
   "outputs": [],
   "source": [
    "size = np.array(tips['size'])"
   ]
  },
  {
   "cell_type": "markdown",
   "metadata": {},
   "source": [
    "**1º Passo -** Encontrar o valor da média dos dados:"
   ]
  },
  {
   "cell_type": "code",
   "execution_count": 33,
   "metadata": {},
   "outputs": [
    {
     "data": {
      "text/plain": [
       "2.569672131147541"
      ]
     },
     "execution_count": 33,
     "metadata": {},
     "output_type": "execute_result"
    }
   ],
   "source": [
    "media = np.mean(size, axis=0) \n",
    "media"
   ]
  },
  {
   "cell_type": "markdown",
   "metadata": {},
   "source": [
    "**2º Passo -** Encontrar o valor do desvio padrão dos dados:"
   ]
  },
  {
   "cell_type": "code",
   "execution_count": 34,
   "metadata": {},
   "outputs": [
    {
     "data": {
      "text/plain": [
       "0.9491488287193913"
      ]
     },
     "execution_count": 34,
     "metadata": {},
     "output_type": "execute_result"
    }
   ],
   "source": [
    "desvio_padrao = np.std(size, axis=0) #Somente 1 coluna = axis 0\n",
    "desvio_padrao"
   ]
  },
  {
   "cell_type": "markdown",
   "metadata": {},
   "source": [
    "- Definição da fronteira menor: Valor mínimo permitido"
   ]
  },
  {
   "cell_type": "code",
   "execution_count": 35,
   "metadata": {},
   "outputs": [
    {
     "data": {
      "text/plain": [
       "0.6713744737087584"
      ]
     },
     "execution_count": 35,
     "metadata": {},
     "output_type": "execute_result"
    }
   ],
   "source": [
    "fronteira_menor = (media - (2 * desvio_padrao))\n",
    "fronteira_menor"
   ]
  },
  {
   "cell_type": "markdown",
   "metadata": {},
   "source": [
    "- Definição da fronteira maior: Valor máximo permitido"
   ]
  },
  {
   "cell_type": "code",
   "execution_count": 36,
   "metadata": {},
   "outputs": [
    {
     "data": {
      "text/plain": [
       "4.467969788586323"
      ]
     },
     "execution_count": 36,
     "metadata": {},
     "output_type": "execute_result"
    }
   ],
   "source": [
    "fronteira_maior = (media + (2 * desvio_padrao))\n",
    "fronteira_maior"
   ]
  },
  {
   "cell_type": "markdown",
   "metadata": {},
   "source": [
    "Vamos quantificar agora os valores que estão abaixo da fronteira menor:"
   ]
  },
  {
   "cell_type": "code",
   "execution_count": 37,
   "metadata": {},
   "outputs": [
    {
     "name": "stdout",
     "output_type": "stream",
     "text": [
      "Quantidade de valores abaixo da fronteira menor: 0\n"
     ]
    }
   ],
   "source": [
    "print('Quantidade de valores abaixo da fronteira menor: {}'.format(len(size[size < fronteira_menor])))"
   ]
  },
  {
   "cell_type": "markdown",
   "metadata": {},
   "source": [
    "Vamos quantidicar os valores que estão acima da fronteira maior:"
   ]
  },
  {
   "cell_type": "code",
   "execution_count": 38,
   "metadata": {},
   "outputs": [
    {
     "name": "stdout",
     "output_type": "stream",
     "text": [
      "Quantidade de valores acima da fronteira maior: 9\n"
     ]
    }
   ],
   "source": [
    "print('Quantidade de valores acima da fronteira maior: {}'.format(len(size[size > fronteira_maior])))"
   ]
  },
  {
   "cell_type": "code",
   "execution_count": 39,
   "metadata": {},
   "outputs": [
    {
     "data": {
      "text/plain": [
       "2.569672131147541"
      ]
     },
     "execution_count": 39,
     "metadata": {},
     "output_type": "execute_result"
    }
   ],
   "source": [
    "# Cálculo da média\n",
    "media = np.mean(size)\n",
    "media"
   ]
  },
  {
   "cell_type": "code",
   "execution_count": 40,
   "metadata": {},
   "outputs": [],
   "source": [
    "# Preenchimento dos valores maiores que a fronteira_maior com a média\n",
    "size[size > fronteira_maior] = media"
   ]
  },
  {
   "cell_type": "code",
   "execution_count": 41,
   "metadata": {},
   "outputs": [],
   "source": [
    "# Atualizar no dataset\n",
    "tips['size'] = size"
   ]
  },
  {
   "cell_type": "code",
   "execution_count": 42,
   "metadata": {},
   "outputs": [
    {
     "data": {
      "image/png": "[encoded data removed]",
      "text/plain": [
       "<Figure size 432x288 with 1 Axes>"
      ]
     },
     "metadata": {},
     "output_type": "display_data"
    }
   ],
   "source": [
    "%matplotlib inline\n",
    "sns.set(style=\"whitegrid\", color_codes=True)\n",
    "sns.boxplot(data=size);"
   ]
  },
  {
   "cell_type": "code",
   "execution_count": 43,
   "metadata": {},
   "outputs": [
    {
     "data": {
      "text/plain": [
       "array([2, 3, 3, 2, 4, 4, 2, 4, 2, 2, 2, 4, 2, 4, 2, 2, 3, 3, 3, 3, 2, 2,\n",
       "       2, 4, 2, 4, 2, 2, 2, 2, 2, 4, 2, 4, 2, 3, 3, 3, 3, 3, 3, 2, 2, 2,\n",
       "       4, 2, 2, 4, 3, 2, 2, 2, 4, 2, 4, 2, 4, 2, 2, 4, 2, 2, 2, 4, 3, 3,\n",
       "       2, 1, 2, 2, 2, 3, 2, 2, 2, 2, 2, 4, 2, 2, 2, 2, 1, 2, 2, 4, 2, 2,\n",
       "       2, 2, 2, 2, 2, 2, 2, 4, 2, 2, 2, 2, 2, 2, 3, 2, 2, 2, 2, 2, 2, 2,\n",
       "       2, 1, 3, 2, 3, 2, 4, 2, 2, 4, 2, 2, 2, 2, 2, 2, 2, 2, 2, 3, 2, 2,\n",
       "       2, 2, 2, 2, 2, 2, 2, 2, 2, 2, 2, 2, 2, 2, 3, 2, 2, 2, 2, 2, 3, 4,\n",
       "       4, 2, 2, 4, 2, 4, 4, 2, 3, 2, 2, 3, 2, 4, 2, 2, 3, 2, 2, 2, 2, 2,\n",
       "       2, 2, 2, 2, 4, 2, 3, 4, 2, 2, 3, 2, 3, 3, 2, 2, 2, 2, 2, 2, 2, 4,\n",
       "       2, 2, 3, 2, 2, 2, 4, 3, 3, 4, 2, 2, 3, 4, 4, 2, 3, 2, 2, 2, 2, 4,\n",
       "       2, 2, 1, 3, 2, 2, 2, 4, 2, 2, 4, 3, 2, 2, 2, 2, 2, 2, 3, 3, 2, 2,\n",
       "       2, 2], dtype=int64)"
      ]
     },
     "execution_count": 43,
     "metadata": {},
     "output_type": "execute_result"
    }
   ],
   "source": [
    "size"
   ]
  },
  {
   "cell_type": "markdown",
   "metadata": {},
   "source": [
    "Vamos exibir agora o boxplot de todos os valores juntos:"
   ]
  },
  {
   "cell_type": "code",
   "execution_count": 46,
   "metadata": {},
   "outputs": [
    {
     "data": {
      "image/png": "[encoded data removed]",
      "text/plain": [
       "<Figure size 432x288 with 1 Axes>"
      ]
     },
     "metadata": {},
     "output_type": "display_data"
    }
   ],
   "source": [
    "%matplotlib inline\n",
    "sns.set(style=\"whitegrid\", color_codes=True)\n",
    "sns.boxplot(data=tips);"
   ]
  }
 ],
 "metadata": {
  "kernelspec": {
   "display_name": "Python 3",
   "language": "python",
   "name": "python3"
  },
  "language_info": {
   "codemirror_mode": {
    "name": "ipython",
    "version": 3
   },
   "file_extension": ".py",
   "mimetype": "text/x-python",
   "name": "python",
   "nbconvert_exporter": "python",
   "pygments_lexer": "ipython3",
   "version": "3.7.0"
  }
 },
 "nbformat": 4,
 "nbformat_minor": 2
}
