{
 "cells": [
  {
   "cell_type": "markdown",
   "metadata": {},
   "source": [
    "# Revisão Básica Python com Condicional e Estruturas de Repetição"
   ]
  },
  {
   "cell_type": "markdown",
   "metadata": {},
   "source": [
    "## Tipos de valores e criação de variáveis:"
   ]
  },
  {
   "cell_type": "code",
   "execution_count": 1,
   "metadata": {},
   "outputs": [
    {
     "name": "stdout",
     "output_type": "stream",
     "text": [
      "<class 'float'>\n"
     ]
    }
   ],
   "source": [
    "#Tipos de variáveis possíveis:\n",
    "int, str, bool (True or False), float, complex\n",
    "\n",
    "# Criação de variáveis\n",
    "z = True\n",
    "a = 4.6\n",
    "print(type(a)) #Imprimindo o tipo de uma variável"
   ]
  },
  {
   "cell_type": "code",
   "execution_count": 2,
   "metadata": {
    "scrolled": true
   },
   "outputs": [
    {
     "name": "stdout",
     "output_type": "stream",
     "text": [
      "4.6 True 4 5 3.0\n"
     ]
    }
   ],
   "source": [
    "# Criação de variáveis com conversão de valores\n",
    "c = int(4)\n",
    "d = str(2+3)\n",
    "e = float(3)\n",
    "f = float(d)\n",
    "print(a,z,c,d,e)"
   ]
  },
  {
   "cell_type": "markdown",
   "metadata": {},
   "source": [
    "## Entrada de dados:"
   ]
  },
  {
   "cell_type": "code",
   "execution_count": 3,
   "metadata": {},
   "outputs": [
    {
     "name": "stdout",
     "output_type": "stream",
     "text": [
      "4\n",
      "5\n",
      "45\n",
      "Insira o primeiro valor: 5\n",
      "Insira o segundo valor: 6\n",
      "11.0\n"
     ]
    }
   ],
   "source": [
    "a = input()\n",
    "b = input()\n",
    "print(a+b) #Concatenação de strings em a e b\n",
    "\n",
    "a = float(input(\"Insira o primeiro valor: \"))\n",
    "b = float(input(\"Insira o segundo valor: \"))\n",
    "c = a + b\n",
    "print(c) #Soma dos valores"
   ]
  },
  {
   "cell_type": "markdown",
   "metadata": {},
   "source": [
    "## Formas de comentar o código:"
   ]
  },
  {
   "cell_type": "code",
   "execution_count": 4,
   "metadata": {},
   "outputs": [
    {
     "data": {
      "text/plain": [
       "'Texto ou trecho do código que foi comentado, geralmente para mais de uma linha: teste : print(\"abc\")'"
      ]
     },
     "execution_count": 4,
     "metadata": {},
     "output_type": "execute_result"
    }
   ],
   "source": [
    "# Texto do código comentado :)\n",
    "'''Texto ou trecho do código que foi comentado, geralmente para mais de uma linha: teste : print(\"abc\")'''"
   ]
  },
  {
   "cell_type": "markdown",
   "metadata": {},
   "source": [
    "## Estruturas condicionais:"
   ]
  },
  {
   "cell_type": "code",
   "execution_count": 5,
   "metadata": {},
   "outputs": [
    {
     "name": "stdout",
     "output_type": "stream",
     "text": [
      "Insira um número: -6\n",
      "Número negativo\n"
     ]
    }
   ],
   "source": [
    "a = int(input(\"Insira um número: \"))\n",
    "\n",
    "if a < 0:\n",
    "    print(\"Número negativo\")\n",
    "elif a > 0:\n",
    "    print(\"Número positivo\")\n",
    "else:\n",
    "    print(\"Número neutro (igual a zero)\")"
   ]
  },
  {
   "cell_type": "markdown",
   "metadata": {},
   "source": [
    "## Operadores booleanos:"
   ]
  },
  {
   "cell_type": "code",
   "execution_count": 7,
   "metadata": {},
   "outputs": [
    {
     "data": {
      "text/plain": [
       "True"
      ]
     },
     "execution_count": 7,
     "metadata": {},
     "output_type": "execute_result"
    }
   ],
   "source": [
    "(2 < 4) # menor que (<)\n",
    "(4 > 2) # maior que (>)  \n",
    "(2 <= 2) # menor ou igual (<=)\n",
    "(5 >= 2) # maior ou igual (>=)\n",
    "(3 == 3) # igual (==)\n",
    "(5 != 3) # Diferente (!=)\n",
    "(5 > 3) and (3 < 7)     # Operador E (juntar condições)\n",
    "(4 < 2) or (8 > 2)      # Operador OU (Ou uma condição ou outra)"
   ]
  },
  {
   "cell_type": "markdown",
   "metadata": {},
   "source": [
    "## Estruturas de repetição"
   ]
  },
  {
   "cell_type": "markdown",
   "metadata": {},
   "source": [
    "### Estrutura While"
   ]
  },
  {
   "cell_type": "code",
   "execution_count": 8,
   "metadata": {
    "scrolled": true
   },
   "outputs": [
    {
     "name": "stdout",
     "output_type": "stream",
     "text": [
      "20\n"
     ]
    }
   ],
   "source": [
    "v = 0\n",
    "while v < 20:\n",
    "    v = v+1\n",
    "print(v)"
   ]
  },
  {
   "cell_type": "markdown",
   "metadata": {},
   "source": [
    "### Estrutura For"
   ]
  },
  {
   "cell_type": "code",
   "execution_count": 9,
   "metadata": {},
   "outputs": [
    {
     "name": "stdout",
     "output_type": "stream",
     "text": [
      "1\n",
      "3\n",
      "5\n",
      "7\n",
      "9\n",
      "T\n",
      "e\n",
      "s\n",
      "t\n",
      "e\n",
      " \n",
      "d\n",
      "e\n",
      " \n",
      "s\n",
      "t\n",
      "r\n",
      "i\n",
      "n\n",
      "g\n"
     ]
    }
   ],
   "source": [
    "for i in [1,3,5,7,9]: #Percorre e imprime os valores da lista\n",
    "    print(i)\n",
    "    \n",
    "for caracter in 'Teste de string':\n",
    "    print(caracter)   \n"
   ]
  },
  {
   "cell_type": "code",
   "execution_count": 10,
   "metadata": {},
   "outputs": [
    {
     "name": "stdout",
     "output_type": "stream",
     "text": [
      "0\n",
      "2\n",
      "4\n",
      "6\n",
      "8\n",
      "10\n",
      "12\n",
      "14\n",
      "16\n",
      "18\n",
      "0\n",
      "2\n",
      "4\n"
     ]
    }
   ],
   "source": [
    "for i in range(0,10): #vai de 0 até 10\n",
    "    print(i*2)\n",
    "    \n",
    "for i in range(0,5,2): #Vai de 0 a 5 de 2 em 2 \n",
    "    print(i)"
   ]
  },
  {
   "cell_type": "code",
   "execution_count": 11,
   "metadata": {},
   "outputs": [
    {
     "name": "stdout",
     "output_type": "stream",
     "text": [
      "Rodrigo\n",
      "Gabi\n",
      "José\n",
      "1\n",
      "3\n",
      "5\n",
      "7\n",
      "9\n"
     ]
    }
   ],
   "source": [
    "#For em um dicionário\n",
    "pessoas_idade = {'Rodrigo':30, 'Gabi':25, 'José':13}\n",
    "for p in pessoas_idade:\n",
    "    print(p)\n",
    "    \n",
    "# For com condicional\n",
    "for i in range(0,11):\n",
    "    if i % 2 > 0:\n",
    "        print(i)"
   ]
  },
  {
   "cell_type": "code",
   "execution_count": 12,
   "metadata": {},
   "outputs": [
    {
     "name": "stdout",
     "output_type": "stream",
     "text": [
      "10 Olá mundo\n",
      "15 teste de python\n",
      "20 mais uma frase\n"
     ]
    }
   ],
   "source": [
    "# Concatenando listas com zip\n",
    "indice = [10,15,20]\n",
    "linhas = ['Olá mundo', 'teste de python', 'mais uma frase']\n",
    "for i,l in zip(indice,linhas):\n",
    "    print(i,l)"
   ]
  },
  {
   "cell_type": "code",
   "execution_count": null,
   "metadata": {},
   "outputs": [],
   "source": [
    "#Loops aninhados\n",
    "for i in ['abacate', 'banana', 'coco']:\n",
    "    print(\"{ \"+i)\n",
    "    for j in ['damasco', 'figo', 'goiaba']:\n",
    "        print(j)"
   ]
  },
  {
   "cell_type": "code",
   "execution_count": 13,
   "metadata": {},
   "outputs": [
    {
     "name": "stdout",
     "output_type": "stream",
     "text": [
      "Letra: P\n",
      "Letra: y\n",
      "Letra: t\n",
      "Letra: h\n",
      "Letra: P\n",
      "Letra: y\n",
      "Letra: t\n",
      "Letra: h\n",
      "Letra: n\n"
     ]
    }
   ],
   "source": [
    "# Break e Continue\n",
    "\n",
    "for letra in 'Python':\n",
    "    if letra == 'o':\n",
    "        break #Ao chegar no  o, ele sai do laço e não imprime mais (não imprime do O em diante)\n",
    "    print(\"Letra: {}\".format(letra))\n",
    "    \n",
    "for letra in 'Python':\n",
    "    if letra == 'o':\n",
    "        continue #Ao chegar no o, ele pula o \"o\" e passa pra proxima iteração (o caractere N)\n",
    "    print(\"Letra: {}\".format(letra))"
   ]
  },
  {
   "cell_type": "markdown",
   "metadata": {},
   "source": [
    "### Estrutura While"
   ]
  },
  {
   "cell_type": "code",
   "execution_count": 14,
   "metadata": {},
   "outputs": [
    {
     "name": "stdout",
     "output_type": "stream",
     "text": [
      "0\n",
      "1\n",
      "2\n",
      "3\n",
      "4\n",
      "5\n",
      "6\n",
      "7\n",
      "8\n",
      "9\n"
     ]
    }
   ],
   "source": [
    "i = 0;\n",
    "while i < 10: # Imprime i de 0 a 9 \n",
    "    print(i)\n",
    "    #i = i+1\n",
    "    i += 1   "
   ]
  },
  {
   "cell_type": "code",
   "execution_count": null,
   "metadata": {},
   "outputs": [],
   "source": [
    "#Loops infinitos    \n",
    "while True:\n",
    "    print('Loop Infinito...')\n",
    "    \n",
    "while 1 < 10:\n",
    "    print('Loop infinito 2...')"
   ]
  },
  {
   "cell_type": "code",
   "execution_count": 15,
   "metadata": {},
   "outputs": [
    {
     "name": "stdout",
     "output_type": "stream",
     "text": [
      "3\n",
      "4\n",
      "5\n",
      "6\n",
      "7\n",
      "8\n",
      "9\n",
      "O valor informado é maior ou igual a 10, o loop não será executado!\n"
     ]
    }
   ],
   "source": [
    "# While com a instrução else (Executada quando a instrução inicial do WHILE é FALSA)\n",
    "i = 3\n",
    "while i < 10:\n",
    "    print(i)\n",
    "    i = i+1\n",
    "else:\n",
    "    print('O valor informado é maior ou igual a 10, o loop não será executado!')"
   ]
  },
  {
   "cell_type": "code",
   "execution_count": null,
   "metadata": {},
   "outputs": [
    {
     "name": "stdout",
     "output_type": "stream",
     "text": [
      "0\n",
      "1\n",
      "2\n",
      "3\n",
      "4\n",
      "\n",
      "Continuando o programa...\n",
      "0\n",
      "1\n",
      "2\n",
      "3\n",
      "4\n"
     ]
    }
   ],
   "source": [
    "# While com break e continue\n",
    "i = 0\n",
    "while i < 10:\n",
    "    if i == 5:\n",
    "        break #Termina a execução quando contador = 5\n",
    "    print(i)\n",
    "    i += 1\n",
    "print('\\nContinuando o programa...')\n",
    "\n",
    "j = 0\n",
    "while j < 10:\n",
    "    if j == 5:\n",
    "        continue #Continua a execução e pula o contador = 5\n",
    "    print(j)\n",
    "    j += 1\n",
    "print('\\nContinuando o programa...')"
   ]
  }
 ],
 "metadata": {
  "kernelspec": {
   "display_name": "Python 3",
   "language": "python",
   "name": "python3"
  },
  "language_info": {
   "codemirror_mode": {
    "name": "ipython",
    "version": 3
   },
   "file_extension": ".py",
   "mimetype": "text/x-python",
   "name": "python",
   "nbconvert_exporter": "python",
   "pygments_lexer": "ipython3",
   "version": "3.7.0"
  }
 },
 "nbformat": 4,
 "nbformat_minor": 2
}
