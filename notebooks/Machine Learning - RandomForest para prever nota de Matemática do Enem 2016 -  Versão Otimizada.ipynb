{
 "cells": [
  {
   "cell_type": "markdown",
   "metadata": {},
   "source": [
    "# Solução do Desafio Codenation - Prever a nota de matemática do enem 2016"
   ]
  },
  {
   "cell_type": "markdown",
   "metadata": {},
   "source": [
    "Como exercício e treinamento de meus estudos em Machine Learning desenvolvi o modelo preditivo a ser mostrado nesse notebook proposto pelo site de desafios Codenation. O modelo ainda está em testes e poderá ser aprimorado/atualizado.\n",
    "\n",
    "Página oficial do desafio: https://www.codenation.com.br/journey/data-science/challenge/enem-2.html"
   ]
  },
  {
   "cell_type": "markdown",
   "metadata": {},
   "source": [
    "## Introdução"
   ]
  },
  {
   "cell_type": "markdown",
   "metadata": {},
   "source": [
    "O desafio consiste em estimar a nota de matemática referente ao enem 2016 através da leitura de dois datasets fornecidos nos arquivos _test.csv_ e _train.csv_. Para realizar esse desafio com suas devidas instruções e arquivos e obter a pontuação, basta acessar o link e seguir as instruções fornecidas pelo autor."
   ]
  },
  {
   "cell_type": "markdown",
   "metadata": {},
   "source": [
    "## Desenvolvimento"
   ]
  },
  {
   "cell_type": "code",
   "execution_count": 1,
   "metadata": {},
   "outputs": [],
   "source": [
    "# Importar as bibliotecas a serem usadas\n",
    "import pandas as pd\n",
    "import numpy as np\n",
    "from sklearn import preprocessing\n",
    "from sklearn.ensemble import RandomForestRegressor\n",
    "from sklearn.pipeline import Pipeline\n",
    "from sklearn import metrics\n",
    "from sklearn.preprocessing import StandardScaler\n",
    "from sklearn.preprocessing import MinMaxScaler\n",
    "from sklearn.preprocessing import Normalizer\n",
    "from sklearn.model_selection import GridSearchCV\n",
    "from sklearn.model_selection import cross_val_predict\n",
    "from sklearn.externals import joblib\n",
    "import matplotlib.pyplot as plt\n",
    "import seaborn as sns"
   ]
  },
  {
   "cell_type": "code",
   "execution_count": 2,
   "metadata": {},
   "outputs": [],
   "source": [
    "# Leitura dos datasets de treino e teste e criação do df de resposta\n",
    "df_train = pd.read_csv('datasets/train.csv')\n",
    "df_test = pd.read_csv('datasets/test.csv')\n",
    "df_resposta = pd.DataFrame()"
   ]
  },
  {
   "cell_type": "markdown",
   "metadata": {},
   "source": [
    "### Análise Exploratória Simplificada"
   ]
  },
  {
   "cell_type": "markdown",
   "metadata": {},
   "source": [
    "Para simplificar bem o processo, analisaremos somente quais as features mais importantes a serem utilizadas nesse modelo, pois esse dataset contém diversas colunas e somente os valores que influenciarem mais na nota serão relevantes:"
   ]
  },
  {
   "cell_type": "code",
   "execution_count": 3,
   "metadata": {
    "scrolled": true
   },
   "outputs": [
    {
     "name": "stdout",
     "output_type": "stream",
     "text": [
      "True\n"
     ]
    }
   ],
   "source": [
    "# Verificar se os dados de teste estão nos dados de treinamento\n",
    "print(set(df_test.columns).issubset(set(df_train.columns)))"
   ]
  },
  {
   "cell_type": "code",
   "execution_count": 4,
   "metadata": {},
   "outputs": [
    {
     "data": {
      "text/html": [
       "<div>\n",
       "<style scoped>\n",
       "    .dataframe tbody tr th:only-of-type {\n",
       "        vertical-align: middle;\n",
       "    }\n",
       "\n",
       "    .dataframe tbody tr th {\n",
       "        vertical-align: top;\n",
       "    }\n",
       "\n",
       "    .dataframe thead th {\n",
       "        text-align: right;\n",
       "    }\n",
       "</style>\n",
       "<table border=\"1\" class=\"dataframe\">\n",
       "  <thead>\n",
       "    <tr style=\"text-align: right;\">\n",
       "      <th></th>\n",
       "      <th>CO_UF_RESIDENCIA</th>\n",
       "      <th>NU_IDADE</th>\n",
       "      <th>TP_COR_RACA</th>\n",
       "      <th>TP_NACIONALIDADE</th>\n",
       "      <th>TP_ST_CONCLUSAO</th>\n",
       "      <th>TP_ANO_CONCLUIU</th>\n",
       "      <th>TP_ESCOLA</th>\n",
       "      <th>TP_ENSINO</th>\n",
       "      <th>IN_TREINEIRO</th>\n",
       "      <th>TP_DEPENDENCIA_ADM_ESC</th>\n",
       "      <th>...</th>\n",
       "      <th>NU_NOTA_CH</th>\n",
       "      <th>NU_NOTA_LC</th>\n",
       "      <th>TP_LINGUA</th>\n",
       "      <th>TP_STATUS_REDACAO</th>\n",
       "      <th>NU_NOTA_COMP1</th>\n",
       "      <th>NU_NOTA_COMP2</th>\n",
       "      <th>NU_NOTA_COMP3</th>\n",
       "      <th>NU_NOTA_COMP4</th>\n",
       "      <th>NU_NOTA_COMP5</th>\n",
       "      <th>NU_NOTA_REDACAO</th>\n",
       "    </tr>\n",
       "  </thead>\n",
       "  <tbody>\n",
       "    <tr>\n",
       "      <th>count</th>\n",
       "      <td>4576.000000</td>\n",
       "      <td>4576.000000</td>\n",
       "      <td>4576.000000</td>\n",
       "      <td>4576.000000</td>\n",
       "      <td>4576.000000</td>\n",
       "      <td>4576.000000</td>\n",
       "      <td>4576.000000</td>\n",
       "      <td>1480.000000</td>\n",
       "      <td>4576.000000</td>\n",
       "      <td>1480.000000</td>\n",
       "      <td>...</td>\n",
       "      <td>3442.000000</td>\n",
       "      <td>3377.000000</td>\n",
       "      <td>4576.000000</td>\n",
       "      <td>3377.000000</td>\n",
       "      <td>3377.000000</td>\n",
       "      <td>3377.000000</td>\n",
       "      <td>3377.000000</td>\n",
       "      <td>3377.000000</td>\n",
       "      <td>3377.000000</td>\n",
       "      <td>3377.000000</td>\n",
       "    </tr>\n",
       "    <tr>\n",
       "      <th>mean</th>\n",
       "      <td>30.762019</td>\n",
       "      <td>21.542395</td>\n",
       "      <td>2.181163</td>\n",
       "      <td>1.060970</td>\n",
       "      <td>1.791084</td>\n",
       "      <td>2.119537</td>\n",
       "      <td>1.368663</td>\n",
       "      <td>1.182432</td>\n",
       "      <td>0.127404</td>\n",
       "      <td>2.264865</td>\n",
       "      <td>...</td>\n",
       "      <td>529.195264</td>\n",
       "      <td>514.304205</td>\n",
       "      <td>0.604458</td>\n",
       "      <td>1.095943</td>\n",
       "      <td>119.626888</td>\n",
       "      <td>111.915902</td>\n",
       "      <td>106.384365</td>\n",
       "      <td>112.881256</td>\n",
       "      <td>76.683447</td>\n",
       "      <td>527.491857</td>\n",
       "    </tr>\n",
       "    <tr>\n",
       "      <th>std</th>\n",
       "      <td>9.912313</td>\n",
       "      <td>6.854073</td>\n",
       "      <td>1.017531</td>\n",
       "      <td>0.281289</td>\n",
       "      <td>0.875692</td>\n",
       "      <td>3.210353</td>\n",
       "      <td>0.568589</td>\n",
       "      <td>0.572495</td>\n",
       "      <td>0.333461</td>\n",
       "      <td>0.716922</td>\n",
       "      <td>...</td>\n",
       "      <td>73.086665</td>\n",
       "      <td>67.725564</td>\n",
       "      <td>0.489020</td>\n",
       "      <td>0.695047</td>\n",
       "      <td>29.028146</td>\n",
       "      <td>33.296849</td>\n",
       "      <td>33.834492</td>\n",
       "      <td>33.202244</td>\n",
       "      <td>42.985637</td>\n",
       "      <td>151.979490</td>\n",
       "    </tr>\n",
       "    <tr>\n",
       "      <th>min</th>\n",
       "      <td>11.000000</td>\n",
       "      <td>14.000000</td>\n",
       "      <td>0.000000</td>\n",
       "      <td>0.000000</td>\n",
       "      <td>1.000000</td>\n",
       "      <td>0.000000</td>\n",
       "      <td>1.000000</td>\n",
       "      <td>1.000000</td>\n",
       "      <td>0.000000</td>\n",
       "      <td>1.000000</td>\n",
       "      <td>...</td>\n",
       "      <td>0.000000</td>\n",
       "      <td>0.000000</td>\n",
       "      <td>0.000000</td>\n",
       "      <td>1.000000</td>\n",
       "      <td>0.000000</td>\n",
       "      <td>0.000000</td>\n",
       "      <td>0.000000</td>\n",
       "      <td>0.000000</td>\n",
       "      <td>0.000000</td>\n",
       "      <td>0.000000</td>\n",
       "    </tr>\n",
       "    <tr>\n",
       "      <th>25%</th>\n",
       "      <td>23.000000</td>\n",
       "      <td>17.000000</td>\n",
       "      <td>1.000000</td>\n",
       "      <td>1.000000</td>\n",
       "      <td>1.000000</td>\n",
       "      <td>0.000000</td>\n",
       "      <td>1.000000</td>\n",
       "      <td>1.000000</td>\n",
       "      <td>0.000000</td>\n",
       "      <td>2.000000</td>\n",
       "      <td>...</td>\n",
       "      <td>479.725000</td>\n",
       "      <td>468.400000</td>\n",
       "      <td>0.000000</td>\n",
       "      <td>1.000000</td>\n",
       "      <td>120.000000</td>\n",
       "      <td>100.000000</td>\n",
       "      <td>80.000000</td>\n",
       "      <td>100.000000</td>\n",
       "      <td>40.000000</td>\n",
       "      <td>440.000000</td>\n",
       "    </tr>\n",
       "    <tr>\n",
       "      <th>50%</th>\n",
       "      <td>31.000000</td>\n",
       "      <td>19.000000</td>\n",
       "      <td>3.000000</td>\n",
       "      <td>1.000000</td>\n",
       "      <td>2.000000</td>\n",
       "      <td>0.000000</td>\n",
       "      <td>1.000000</td>\n",
       "      <td>1.000000</td>\n",
       "      <td>0.000000</td>\n",
       "      <td>2.000000</td>\n",
       "      <td>...</td>\n",
       "      <td>532.000000</td>\n",
       "      <td>516.800000</td>\n",
       "      <td>1.000000</td>\n",
       "      <td>1.000000</td>\n",
       "      <td>120.000000</td>\n",
       "      <td>120.000000</td>\n",
       "      <td>100.000000</td>\n",
       "      <td>120.000000</td>\n",
       "      <td>80.000000</td>\n",
       "      <td>540.000000</td>\n",
       "    </tr>\n",
       "    <tr>\n",
       "      <th>75%</th>\n",
       "      <td>35.000000</td>\n",
       "      <td>23.000000</td>\n",
       "      <td>3.000000</td>\n",
       "      <td>1.000000</td>\n",
       "      <td>2.000000</td>\n",
       "      <td>3.000000</td>\n",
       "      <td>2.000000</td>\n",
       "      <td>1.000000</td>\n",
       "      <td>0.000000</td>\n",
       "      <td>2.000000</td>\n",
       "      <td>...</td>\n",
       "      <td>579.550000</td>\n",
       "      <td>562.400000</td>\n",
       "      <td>1.000000</td>\n",
       "      <td>1.000000</td>\n",
       "      <td>140.000000</td>\n",
       "      <td>120.000000</td>\n",
       "      <td>120.000000</td>\n",
       "      <td>120.000000</td>\n",
       "      <td>100.000000</td>\n",
       "      <td>600.000000</td>\n",
       "    </tr>\n",
       "    <tr>\n",
       "      <th>max</th>\n",
       "      <td>53.000000</td>\n",
       "      <td>65.000000</td>\n",
       "      <td>5.000000</td>\n",
       "      <td>4.000000</td>\n",
       "      <td>4.000000</td>\n",
       "      <td>10.000000</td>\n",
       "      <td>3.000000</td>\n",
       "      <td>3.000000</td>\n",
       "      <td>1.000000</td>\n",
       "      <td>4.000000</td>\n",
       "      <td>...</td>\n",
       "      <td>773.600000</td>\n",
       "      <td>708.900000</td>\n",
       "      <td>1.000000</td>\n",
       "      <td>9.000000</td>\n",
       "      <td>200.000000</td>\n",
       "      <td>200.000000</td>\n",
       "      <td>200.000000</td>\n",
       "      <td>200.000000</td>\n",
       "      <td>200.000000</td>\n",
       "      <td>980.000000</td>\n",
       "    </tr>\n",
       "  </tbody>\n",
       "</table>\n",
       "<p>8 rows × 32 columns</p>\n",
       "</div>"
      ],
      "text/plain": [
       "       CO_UF_RESIDENCIA     NU_IDADE  TP_COR_RACA  TP_NACIONALIDADE  \\\n",
       "count       4576.000000  4576.000000  4576.000000       4576.000000   \n",
       "mean          30.762019    21.542395     2.181163          1.060970   \n",
       "std            9.912313     6.854073     1.017531          0.281289   \n",
       "min           11.000000    14.000000     0.000000          0.000000   \n",
       "25%           23.000000    17.000000     1.000000          1.000000   \n",
       "50%           31.000000    19.000000     3.000000          1.000000   \n",
       "75%           35.000000    23.000000     3.000000          1.000000   \n",
       "max           53.000000    65.000000     5.000000          4.000000   \n",
       "\n",
       "       TP_ST_CONCLUSAO  TP_ANO_CONCLUIU    TP_ESCOLA    TP_ENSINO  \\\n",
       "count      4576.000000      4576.000000  4576.000000  1480.000000   \n",
       "mean          1.791084         2.119537     1.368663     1.182432   \n",
       "std           0.875692         3.210353     0.568589     0.572495   \n",
       "min           1.000000         0.000000     1.000000     1.000000   \n",
       "25%           1.000000         0.000000     1.000000     1.000000   \n",
       "50%           2.000000         0.000000     1.000000     1.000000   \n",
       "75%           2.000000         3.000000     2.000000     1.000000   \n",
       "max           4.000000        10.000000     3.000000     3.000000   \n",
       "\n",
       "       IN_TREINEIRO  TP_DEPENDENCIA_ADM_ESC       ...          NU_NOTA_CH  \\\n",
       "count   4576.000000             1480.000000       ...         3442.000000   \n",
       "mean       0.127404                2.264865       ...          529.195264   \n",
       "std        0.333461                0.716922       ...           73.086665   \n",
       "min        0.000000                1.000000       ...            0.000000   \n",
       "25%        0.000000                2.000000       ...          479.725000   \n",
       "50%        0.000000                2.000000       ...          532.000000   \n",
       "75%        0.000000                2.000000       ...          579.550000   \n",
       "max        1.000000                4.000000       ...          773.600000   \n",
       "\n",
       "        NU_NOTA_LC    TP_LINGUA  TP_STATUS_REDACAO  NU_NOTA_COMP1  \\\n",
       "count  3377.000000  4576.000000        3377.000000    3377.000000   \n",
       "mean    514.304205     0.604458           1.095943     119.626888   \n",
       "std      67.725564     0.489020           0.695047      29.028146   \n",
       "min       0.000000     0.000000           1.000000       0.000000   \n",
       "25%     468.400000     0.000000           1.000000     120.000000   \n",
       "50%     516.800000     1.000000           1.000000     120.000000   \n",
       "75%     562.400000     1.000000           1.000000     140.000000   \n",
       "max     708.900000     1.000000           9.000000     200.000000   \n",
       "\n",
       "       NU_NOTA_COMP2  NU_NOTA_COMP3  NU_NOTA_COMP4  NU_NOTA_COMP5  \\\n",
       "count    3377.000000    3377.000000    3377.000000    3377.000000   \n",
       "mean      111.915902     106.384365     112.881256      76.683447   \n",
       "std        33.296849      33.834492      33.202244      42.985637   \n",
       "min         0.000000       0.000000       0.000000       0.000000   \n",
       "25%       100.000000      80.000000     100.000000      40.000000   \n",
       "50%       120.000000     100.000000     120.000000      80.000000   \n",
       "75%       120.000000     120.000000     120.000000     100.000000   \n",
       "max       200.000000     200.000000     200.000000     200.000000   \n",
       "\n",
       "       NU_NOTA_REDACAO  \n",
       "count      3377.000000  \n",
       "mean        527.491857  \n",
       "std         151.979490  \n",
       "min           0.000000  \n",
       "25%         440.000000  \n",
       "50%         540.000000  \n",
       "75%         600.000000  \n",
       "max         980.000000  \n",
       "\n",
       "[8 rows x 32 columns]"
      ]
     },
     "execution_count": 4,
     "metadata": {},
     "output_type": "execute_result"
    }
   ],
   "source": [
    "df_test.describe()"
   ]
  },
  {
   "cell_type": "markdown",
   "metadata": {},
   "source": [
    "Ok! Os dados foram validados, agora podemos salvar o número de inscrição que usaremos só no arquivo de resposta final:"
   ]
  },
  {
   "cell_type": "code",
   "execution_count": 5,
   "metadata": {},
   "outputs": [],
   "source": [
    "# Salvar os dados das inscrições\n",
    "df_resposta['NU_INSCRICAO'] = df_test['NU_INSCRICAO']\n",
    "df_test.drop('NU_INSCRICAO', axis=1, inplace=True)"
   ]
  },
  {
   "cell_type": "markdown",
   "metadata": {},
   "source": [
    "Selecionaremos para a regressão somente os valores numéricos"
   ]
  },
  {
   "cell_type": "code",
   "execution_count": 6,
   "metadata": {},
   "outputs": [],
   "source": [
    "# Selecionar somente valores inteiros e floats\n",
    "df_test = df_test.select_dtypes(include=['int64','float64'])"
   ]
  },
  {
   "cell_type": "markdown",
   "metadata": {},
   "source": [
    "Agora vamos verificar qual a correlação de algumas das variáveis para decidir quais serão usadas no modelo:"
   ]
  },
  {
   "cell_type": "code",
   "execution_count": 7,
   "metadata": {
    "scrolled": true
   },
   "outputs": [
    {
     "data": {
      "text/html": [
       "<div>\n",
       "<style scoped>\n",
       "    .dataframe tbody tr th:only-of-type {\n",
       "        vertical-align: middle;\n",
       "    }\n",
       "\n",
       "    .dataframe tbody tr th {\n",
       "        vertical-align: top;\n",
       "    }\n",
       "\n",
       "    .dataframe thead th {\n",
       "        text-align: right;\n",
       "    }\n",
       "</style>\n",
       "<table border=\"1\" class=\"dataframe\">\n",
       "  <thead>\n",
       "    <tr style=\"text-align: right;\">\n",
       "      <th></th>\n",
       "      <th>NU_IDADE</th>\n",
       "      <th>TP_COR_RACA</th>\n",
       "      <th>IN_TREINEIRO</th>\n",
       "      <th>TP_NACIONALIDADE</th>\n",
       "      <th>CO_UF_RESIDENCIA</th>\n",
       "      <th>NU_NOTA_CN</th>\n",
       "      <th>NU_NOTA_CH</th>\n",
       "      <th>NU_NOTA_LC</th>\n",
       "      <th>NU_NOTA_REDACAO</th>\n",
       "    </tr>\n",
       "  </thead>\n",
       "  <tbody>\n",
       "    <tr>\n",
       "      <th>NU_IDADE</th>\n",
       "      <td>1.000000</td>\n",
       "      <td>0.006029</td>\n",
       "      <td>-0.293714</td>\n",
       "      <td>-0.004572</td>\n",
       "      <td>-0.027277</td>\n",
       "      <td>-0.105278</td>\n",
       "      <td>-0.048229</td>\n",
       "      <td>-0.079171</td>\n",
       "      <td>-0.161202</td>\n",
       "    </tr>\n",
       "    <tr>\n",
       "      <th>TP_COR_RACA</th>\n",
       "      <td>0.006029</td>\n",
       "      <td>1.000000</td>\n",
       "      <td>0.033100</td>\n",
       "      <td>0.027840</td>\n",
       "      <td>-0.223924</td>\n",
       "      <td>-0.159068</td>\n",
       "      <td>-0.161977</td>\n",
       "      <td>-0.158654</td>\n",
       "      <td>-0.117604</td>\n",
       "    </tr>\n",
       "    <tr>\n",
       "      <th>IN_TREINEIRO</th>\n",
       "      <td>-0.293714</td>\n",
       "      <td>0.033100</td>\n",
       "      <td>1.000000</td>\n",
       "      <td>0.012710</td>\n",
       "      <td>-0.046836</td>\n",
       "      <td>-0.009669</td>\n",
       "      <td>-0.032181</td>\n",
       "      <td>-0.004934</td>\n",
       "      <td>-0.014277</td>\n",
       "    </tr>\n",
       "    <tr>\n",
       "      <th>TP_NACIONALIDADE</th>\n",
       "      <td>-0.004572</td>\n",
       "      <td>0.027840</td>\n",
       "      <td>0.012710</td>\n",
       "      <td>1.000000</td>\n",
       "      <td>0.003637</td>\n",
       "      <td>-0.060391</td>\n",
       "      <td>-0.059370</td>\n",
       "      <td>-0.079824</td>\n",
       "      <td>-0.064910</td>\n",
       "    </tr>\n",
       "    <tr>\n",
       "      <th>CO_UF_RESIDENCIA</th>\n",
       "      <td>-0.027277</td>\n",
       "      <td>-0.223924</td>\n",
       "      <td>-0.046836</td>\n",
       "      <td>0.003637</td>\n",
       "      <td>1.000000</td>\n",
       "      <td>0.083600</td>\n",
       "      <td>0.135885</td>\n",
       "      <td>0.143118</td>\n",
       "      <td>0.084533</td>\n",
       "    </tr>\n",
       "    <tr>\n",
       "      <th>NU_NOTA_CN</th>\n",
       "      <td>-0.105278</td>\n",
       "      <td>-0.159068</td>\n",
       "      <td>-0.009669</td>\n",
       "      <td>-0.060391</td>\n",
       "      <td>0.083600</td>\n",
       "      <td>1.000000</td>\n",
       "      <td>0.598574</td>\n",
       "      <td>0.545801</td>\n",
       "      <td>0.442692</td>\n",
       "    </tr>\n",
       "    <tr>\n",
       "      <th>NU_NOTA_CH</th>\n",
       "      <td>-0.048229</td>\n",
       "      <td>-0.161977</td>\n",
       "      <td>-0.032181</td>\n",
       "      <td>-0.059370</td>\n",
       "      <td>0.135885</td>\n",
       "      <td>0.598574</td>\n",
       "      <td>1.000000</td>\n",
       "      <td>0.679993</td>\n",
       "      <td>0.537141</td>\n",
       "    </tr>\n",
       "    <tr>\n",
       "      <th>NU_NOTA_LC</th>\n",
       "      <td>-0.079171</td>\n",
       "      <td>-0.158654</td>\n",
       "      <td>-0.004934</td>\n",
       "      <td>-0.079824</td>\n",
       "      <td>0.143118</td>\n",
       "      <td>0.545801</td>\n",
       "      <td>0.679993</td>\n",
       "      <td>1.000000</td>\n",
       "      <td>0.495745</td>\n",
       "    </tr>\n",
       "    <tr>\n",
       "      <th>NU_NOTA_REDACAO</th>\n",
       "      <td>-0.161202</td>\n",
       "      <td>-0.117604</td>\n",
       "      <td>-0.014277</td>\n",
       "      <td>-0.064910</td>\n",
       "      <td>0.084533</td>\n",
       "      <td>0.442692</td>\n",
       "      <td>0.537141</td>\n",
       "      <td>0.495745</td>\n",
       "      <td>1.000000</td>\n",
       "    </tr>\n",
       "  </tbody>\n",
       "</table>\n",
       "</div>"
      ],
      "text/plain": [
       "                  NU_IDADE  TP_COR_RACA  IN_TREINEIRO  TP_NACIONALIDADE  \\\n",
       "NU_IDADE          1.000000     0.006029     -0.293714         -0.004572   \n",
       "TP_COR_RACA       0.006029     1.000000      0.033100          0.027840   \n",
       "IN_TREINEIRO     -0.293714     0.033100      1.000000          0.012710   \n",
       "TP_NACIONALIDADE -0.004572     0.027840      0.012710          1.000000   \n",
       "CO_UF_RESIDENCIA -0.027277    -0.223924     -0.046836          0.003637   \n",
       "NU_NOTA_CN       -0.105278    -0.159068     -0.009669         -0.060391   \n",
       "NU_NOTA_CH       -0.048229    -0.161977     -0.032181         -0.059370   \n",
       "NU_NOTA_LC       -0.079171    -0.158654     -0.004934         -0.079824   \n",
       "NU_NOTA_REDACAO  -0.161202    -0.117604     -0.014277         -0.064910   \n",
       "\n",
       "                  CO_UF_RESIDENCIA  NU_NOTA_CN  NU_NOTA_CH  NU_NOTA_LC  \\\n",
       "NU_IDADE                 -0.027277   -0.105278   -0.048229   -0.079171   \n",
       "TP_COR_RACA              -0.223924   -0.159068   -0.161977   -0.158654   \n",
       "IN_TREINEIRO             -0.046836   -0.009669   -0.032181   -0.004934   \n",
       "TP_NACIONALIDADE          0.003637   -0.060391   -0.059370   -0.079824   \n",
       "CO_UF_RESIDENCIA          1.000000    0.083600    0.135885    0.143118   \n",
       "NU_NOTA_CN                0.083600    1.000000    0.598574    0.545801   \n",
       "NU_NOTA_CH                0.135885    0.598574    1.000000    0.679993   \n",
       "NU_NOTA_LC                0.143118    0.545801    0.679993    1.000000   \n",
       "NU_NOTA_REDACAO           0.084533    0.442692    0.537141    0.495745   \n",
       "\n",
       "                  NU_NOTA_REDACAO  \n",
       "NU_IDADE                -0.161202  \n",
       "TP_COR_RACA             -0.117604  \n",
       "IN_TREINEIRO            -0.014277  \n",
       "TP_NACIONALIDADE        -0.064910  \n",
       "CO_UF_RESIDENCIA         0.084533  \n",
       "NU_NOTA_CN               0.442692  \n",
       "NU_NOTA_CH               0.537141  \n",
       "NU_NOTA_LC               0.495745  \n",
       "NU_NOTA_REDACAO          1.000000  "
      ]
     },
     "execution_count": 7,
     "metadata": {},
     "output_type": "execute_result"
    }
   ],
   "source": [
    "var = ['NU_IDADE','TP_COR_RACA','IN_TREINEIRO','TP_NACIONALIDADE','CO_UF_RESIDENCIA','NU_NOTA_CN','NU_NOTA_CH','NU_NOTA_LC','NU_NOTA_REDACAO']\n",
    "df_test[var].corr()"
   ]
  },
  {
   "cell_type": "markdown",
   "metadata": {},
   "source": [
    "Vamos usar nesse modelo as notas NU_NOTA_CN, NU_NOTA_CH, NU_NOTA_LC, NU_NOTA_REDACAO e o campo CO_UF_RESIDENCIA que possuem boa correlação."
   ]
  },
  {
   "cell_type": "code",
   "execution_count": 8,
   "metadata": {},
   "outputs": [],
   "source": [
    "features = ['CO_UF_RESIDENCIA','NU_NOTA_CN','NU_NOTA_CH','NU_NOTA_LC','NU_NOTA_REDACAO', 'CO_UF_RESIDENCIA']"
   ]
  },
  {
   "cell_type": "code",
   "execution_count": 9,
   "metadata": {
    "scrolled": true
   },
   "outputs": [
    {
     "data": {
      "image/png": "[encoded data removed]",
      "text/plain": [
       "<Figure size 432x432 with 2 Axes>"
      ]
     },
     "metadata": {
      "needs_background": "light"
     },
     "output_type": "display_data"
    }
   ],
   "source": [
    "%matplotlib inline\n",
    "\n",
    "plt.figure(figsize=(6,6))\n",
    "sns.heatmap(df_test[features].corr(), annot=True, linewidths=0.5, linecolor='black', cmap='Blues')\n",
    "plt.xticks(rotation=90)\n",
    "plt.show()"
   ]
  },
  {
   "cell_type": "markdown",
   "metadata": {},
   "source": [
    "### Validação e Tratamento dos dados"
   ]
  },
  {
   "cell_type": "markdown",
   "metadata": {},
   "source": [
    "Na correlação das variáveis do dataset, pode-se observar que há registros em que todas as colunas se encontram vazias. Em registros nos quais todas as provas (NU_NOTA_CN,NU_NOTA_CH,NU_NOTA_LC,NU_NOTA_REDACAO) tenham as notas como nulas, pode-se estimar que esse aluno não foi realizar as provas, portanto devemos remover essas linhas do dataset de treino:"
   ]
  },
  {
   "cell_type": "code",
   "execution_count": 10,
   "metadata": {},
   "outputs": [],
   "source": [
    "# Usando o loc com uma condição composta para obter somente registros com todas as provas\n",
    "df_train = df_train.loc[(df_train['NU_NOTA_CN'].notnull()) & (df_train['NU_NOTA_CH'].notnull())  & (df_train['NU_NOTA_LC'].notnull()) & (df_train['NU_NOTA_REDACAO'].notnull()) & (df_train['NU_NOTA_MT'].notnull())]"
   ]
  },
  {
   "cell_type": "markdown",
   "metadata": {},
   "source": [
    "Após a remoção desses registros, percebe-se que há registros dos dataframes de teste com notas de algumas provas faltantes, o que não é bom para o modelo preditivo:"
   ]
  },
  {
   "cell_type": "code",
   "execution_count": 11,
   "metadata": {},
   "outputs": [
    {
     "data": {
      "text/plain": [
       "CO_UF_RESIDENCIA       0\n",
       "NU_NOTA_CN          1134\n",
       "NU_NOTA_CH          1134\n",
       "NU_NOTA_LC          1199\n",
       "NU_NOTA_REDACAO     1199\n",
       "CO_UF_RESIDENCIA       0\n",
       "dtype: int64"
      ]
     },
     "execution_count": 11,
     "metadata": {},
     "output_type": "execute_result"
    }
   ],
   "source": [
    "df_test[features].isnull().sum()"
   ]
  },
  {
   "cell_type": "code",
   "execution_count": 12,
   "metadata": {},
   "outputs": [
    {
     "data": {
      "text/plain": [
       "CO_UF_RESIDENCIA    0\n",
       "NU_NOTA_CN          0\n",
       "NU_NOTA_CH          0\n",
       "NU_NOTA_LC          0\n",
       "NU_NOTA_REDACAO     0\n",
       "CO_UF_RESIDENCIA    0\n",
       "dtype: int64"
      ]
     },
     "execution_count": 12,
     "metadata": {},
     "output_type": "execute_result"
    }
   ],
   "source": [
    "df_train[features].isnull().sum()"
   ]
  },
  {
   "cell_type": "markdown",
   "metadata": {},
   "source": [
    "Esse problema pode ser solucionado através das seguintes opções: <br>\n",
    " - **Exclusão das notas** (não é uma solução viável, pois irá excluir registros de pessoas que fizeram todas as provas, mas pode ter corrompido uma de suas notas durante a extração dos dados, por exemplo), \n",
    " - **Preenchimento com zeros** (após a realização de testes em modelos de regressão anteriores, essa opção não gerou bons resultados, reduzindo drasticamente o valor final da nota estimada), \n",
    " - **Preenchimento das notas faltantes com a média da coluna das notas encontradas** (será a opção mais viável e a usada nesse estudo)."
   ]
  },
  {
   "cell_type": "code",
   "execution_count": 13,
   "metadata": {},
   "outputs": [],
   "source": [
    "# Preencher valores nulos com o valor médio - Tratamento das notas de provas corrompidas\n",
    "df_train['NU_NOTA_CN'].fillna(df_train['NU_NOTA_CN'].mean(), inplace=True)\n",
    "df_train['NU_NOTA_CH'].fillna(df_train['NU_NOTA_CH'].mean(), inplace=True)\n",
    "df_train['NU_NOTA_REDACAO'].fillna(df_train['NU_NOTA_REDACAO'].mean(), inplace=True)\n",
    "df_train['NU_NOTA_LC'].fillna(df_train['NU_NOTA_LC'].mean(), inplace=True)\n",
    "#df_train['NU_NOTA_MT'].fillna(df_train['NU_NOTA_MT'].mean(), inplace=True)\n",
    "df_test['NU_NOTA_CN'].fillna(df_train['NU_NOTA_CN'].mean(), inplace=True)\n",
    "df_test['NU_NOTA_CH'].fillna(df_train['NU_NOTA_CH'].mean(), inplace=True)\n",
    "df_test['NU_NOTA_REDACAO'].fillna(df_train['NU_NOTA_REDACAO'].mean(), inplace=True)\n",
    "df_test['NU_NOTA_LC'].fillna(df_train['NU_NOTA_LC'].mean(), inplace=True)"
   ]
  },
  {
   "cell_type": "code",
   "execution_count": 14,
   "metadata": {},
   "outputs": [],
   "source": [
    "# Apagar valores vazios\n",
    "df_train['NU_NOTA_MT'].dropna(inplace=True)"
   ]
  },
  {
   "cell_type": "markdown",
   "metadata": {},
   "source": [
    "### Separação dos dados de treino e classe"
   ]
  },
  {
   "cell_type": "markdown",
   "metadata": {},
   "source": [
    "_**Definição da classe:**_ O que queremos descobrir nesse estudo? A nota de matemática dos alunos que fizeram o enem 2016 <br>\n",
    "Para validar os dados/treinar o algoritmo (Nota de Matemática)"
   ]
  },
  {
   "cell_type": "code",
   "execution_count": 15,
   "metadata": {},
   "outputs": [],
   "source": [
    "classe = df_train['NU_NOTA_MT']"
   ]
  },
  {
   "cell_type": "markdown",
   "metadata": {},
   "source": [
    "Separação das variaveis do modelo (features) - Somente os dados numéricos considerados relevantes, no caso as variáveis definidas anteriormente: ['NU_NOTA_CN','NU_NOTA_CH','NU_NOTA_LC','NU_NOTA_REDACAO']"
   ]
  },
  {
   "cell_type": "code",
   "execution_count": 16,
   "metadata": {},
   "outputs": [],
   "source": [
    "# Definição do dataset de treino somente com as informações relevantes para treinar o modelo\n",
    "features = ['NU_NOTA_CN','NU_NOTA_CH','NU_NOTA_LC','NU_NOTA_REDACAO','CO_UF_RESIDENCIA']\n",
    "x_train = df_train[features]"
   ]
  },
  {
   "cell_type": "markdown",
   "metadata": {},
   "source": [
    "Vamos selecionar os dados de teste contendo somente as features necessárias a análise:"
   ]
  },
  {
   "cell_type": "code",
   "execution_count": 17,
   "metadata": {},
   "outputs": [],
   "source": [
    "x_test = df_test[features]"
   ]
  },
  {
   "cell_type": "markdown",
   "metadata": {},
   "source": [
    "Para melhorar a performance e a previsão do modelo, testaremos nessa versão três algoritmos de padronização (usados deixar os dados na mesma escala) diferentes: O StandardScaler, o MinMaxScaler e o Normalizer\n",
    "\n",
    "[StandardScaler](https://scikit-learn.org/stable/modules/generated/sklearn.preprocessing.StandardScaler.html).\n",
    "\n",
    "[MinMaxScaler](https://scikit-learn.org/stable/modules/generated/sklearn.preprocessing.MinMaxScaler.html)\n",
    "\n",
    "[Normalizer](https://scikit-learn.org/stable/modules/generatedsklearn.preprocessing.Normalizer.html#sklearn.preprocessing.Normalizer)\n"
   ]
  },
  {
   "cell_type": "markdown",
   "metadata": {},
   "source": [
    "## RandomForest"
   ]
  },
  {
   "cell_type": "markdown",
   "metadata": {},
   "source": [
    "O RandomForest é um algoritmo de aprendizado supervisionado, um meta estimador que se ajusta a várias árvores de decisão de classificação em várias subamostras do conjunto de dados e usa a média para melhorar a precisão preditiva e controlar o ajuste excessivo. O tamanho da subamostra é sempre o mesmo que o tamanho da amostra de entrada original.\n",
    "**Para dizer isso em palavras simples: A floresta aleatória cria várias árvores de decisão e as mescla para obter uma previsão mais precisa e estável.**  - [The Random Forest Algorithm - Towards Data Science](https://towardsdatascience.com/the-random-forest-algorithm-d457d499ffcd)\n"
   ]
  },
  {
   "cell_type": "code",
   "execution_count": 18,
   "metadata": {},
   "outputs": [
    {
     "data": {
      "text/plain": [
       "RandomForestRegressor(bootstrap=True, criterion='mse', max_depth=None,\n",
       "           max_features='auto', max_leaf_nodes=None,\n",
       "           min_impurity_decrease=0.0, min_impurity_split=None,\n",
       "           min_samples_leaf=1, min_samples_split=2,\n",
       "           min_weight_fraction_leaf=0.0, n_estimators=200, n_jobs=None,\n",
       "           oob_score=False, random_state=42, verbose=0, warm_start=False)"
      ]
     },
     "execution_count": 18,
     "metadata": {},
     "output_type": "execute_result"
    }
   ],
   "source": [
    "# Criando o objeto RandomForest\n",
    "rf = RandomForestRegressor(random_state=42, n_estimators=200).fit(x_train,classe)\n",
    "rf"
   ]
  },
  {
   "cell_type": "markdown",
   "metadata": {},
   "source": [
    "Vamos verificar qual o ranking de predição desse modelo sem o uso de outros recursos de pré processamento ou automatização:"
   ]
  },
  {
   "cell_type": "code",
   "execution_count": 19,
   "metadata": {},
   "outputs": [
    {
     "data": {
      "text/plain": [
       "0.9188814325628881"
      ]
     },
     "execution_count": 19,
     "metadata": {},
     "output_type": "execute_result"
    }
   ],
   "source": [
    "# Score do classificador usando a métrica R-quadrado (coeficiente de determinação)\n",
    "rf.score(x_train,classe)"
   ]
  },
  {
   "cell_type": "code",
   "execution_count": 20,
   "metadata": {},
   "outputs": [],
   "source": [
    "pred_notas = rf.predict(x_test)"
   ]
  },
  {
   "cell_type": "markdown",
   "metadata": {},
   "source": [
    "Vamos salvar os resultados encontrados no dataframe de respostas:"
   ]
  },
  {
   "cell_type": "code",
   "execution_count": 21,
   "metadata": {},
   "outputs": [],
   "source": [
    "df_resposta['NU_NOTA_MT'] = np.around(pred_notas,2)"
   ]
  },
  {
   "cell_type": "code",
   "execution_count": 22,
   "metadata": {},
   "outputs": [
    {
     "data": {
      "text/plain": [
       "array([412.6 , 455.51, 595.56, ..., 461.26, 492.12, 676.  ])"
      ]
     },
     "execution_count": 22,
     "metadata": {},
     "output_type": "execute_result"
    }
   ],
   "source": [
    "# Exemplos de notas estimados\n",
    "df_resposta['NU_NOTA_MT'].unique()"
   ]
  },
  {
   "cell_type": "markdown",
   "metadata": {},
   "source": [
    "Gerar o documento a ser validado pelo codenation, que avalia a predição do modelo:"
   ]
  },
  {
   "cell_type": "code",
   "execution_count": 25,
   "metadata": {},
   "outputs": [],
   "source": [
    "df_resposta.to_csv('datasets/answer.csv', index=False, header=True)"
   ]
  },
  {
   "cell_type": "markdown",
   "metadata": {},
   "source": [
    "Podemos também salvar o modelo preditivo criado e usá-lo posteriormente usando esses códigos:"
   ]
  },
  {
   "cell_type": "code",
   "execution_count": 26,
   "metadata": {},
   "outputs": [
    {
     "data": {
      "text/plain": [
       "array([412.595 , 455.511 , 595.5605, ..., 676.0015, 448.1675, 462.4705])"
      ]
     },
     "execution_count": 26,
     "metadata": {},
     "output_type": "execute_result"
    }
   ],
   "source": [
    "# Salvar o modelo preditivo\n",
    "joblib.dump(rf, 'rf_regressor.pkl')\n",
    "\n",
    "# Usar/carregar o modelo preditivo\n",
    "rf2 = joblib.load('rf_regressor.pkl')\n",
    "rf2.predict(x_test)"
   ]
  }
 ],
 "metadata": {
  "kernelspec": {
   "display_name": "Python 3",
   "language": "python",
   "name": "python3"
  },
  "language_info": {
   "codemirror_mode": {
    "name": "ipython",
    "version": 3
   },
   "file_extension": ".py",
   "mimetype": "text/x-python",
   "name": "python",
   "nbconvert_exporter": "python",
   "pygments_lexer": "ipython3",
   "version": "3.7.2"
  }
 },
 "nbformat": 4,
 "nbformat_minor": 2
}
