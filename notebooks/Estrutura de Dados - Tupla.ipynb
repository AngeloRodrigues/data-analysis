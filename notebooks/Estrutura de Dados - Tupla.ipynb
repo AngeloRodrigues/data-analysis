{
 "cells": [
  {
   "cell_type": "markdown",
   "metadata": {},
   "source": [
    "# Tupla"
   ]
  },
  {
   "cell_type": "markdown",
   "metadata": {},
   "source": [
    "Uma lista é um conjunto de valores que funciona de forma parecida com a lista, porém, uma vez declarada não pode mais ser alterada."
   ]
  },
  {
   "cell_type": "markdown",
   "metadata": {},
   "source": [
    "Não é necessário, mas é convencional criar a tupla colocando seus elementos entre parênteses:"
   ]
  },
  {
   "cell_type": "markdown",
   "metadata": {},
   "source": [
    "### **Declaração de tuplas** "
   ]
  },
  {
   "cell_type": "code",
   "execution_count": 39,
   "metadata": {},
   "outputs": [],
   "source": [
    "tupla = (2,'teste',44,54)\n",
    "\n",
    "# Não vai dar erro, mas não é comum\n",
    "tupla2 = 'a',4,'th',3"
   ]
  },
  {
   "cell_type": "markdown",
   "metadata": {},
   "source": [
    "Imprimir elementos da tupla:"
   ]
  },
  {
   "cell_type": "code",
   "execution_count": 41,
   "metadata": {},
   "outputs": [
    {
     "data": {
      "text/plain": [
       "'teste'"
      ]
     },
     "execution_count": 41,
     "metadata": {},
     "output_type": "execute_result"
    }
   ],
   "source": [
    "tupla[1]"
   ]
  },
  {
   "cell_type": "code",
   "execution_count": null,
   "metadata": {},
   "outputs": [],
   "source": [
    "Você não vai conseguir alterar o valor de uma tupla após sua criação:"
   ]
  },
  {
   "cell_type": "code",
   "execution_count": 1,
   "metadata": {},
   "outputs": [
    {
     "ename": "NameError",
     "evalue": "name 'tupla' is not defined",
     "output_type": "error",
     "traceback": [
      "\u001b[0;31m---------------------------------------------------------------------------\u001b[0m",
      "\u001b[0;31mNameError\u001b[0m                                 Traceback (most recent call last)",
      "\u001b[0;32m<ipython-input-1-a013a518620d>\u001b[0m in \u001b[0;36m<module>\u001b[0;34m()\u001b[0m\n\u001b[1;32m      1\u001b[0m \u001b[0;31m# Tentativa de atualizar a tupla (ERRO ao tentar alterar o elemento na posição 2)\u001b[0m\u001b[0;34m\u001b[0m\u001b[0;34m\u001b[0m\u001b[0;34m\u001b[0m\u001b[0m\n\u001b[0;32m----> 2\u001b[0;31m \u001b[0mtupla\u001b[0m\u001b[0;34m[\u001b[0m\u001b[0;36m2\u001b[0m\u001b[0;34m]\u001b[0m \u001b[0;34m=\u001b[0m \u001b[0;34m'rio'\u001b[0m\u001b[0;34m\u001b[0m\u001b[0;34m\u001b[0m\u001b[0m\n\u001b[0m",
      "\u001b[0;31mNameError\u001b[0m: name 'tupla' is not defined"
     ]
    }
   ],
   "source": [
    "# Tentativa de atualizar a tupla (ERRO ao tentar alterar o elemento na posição 2)\n",
    "tupla[2] = 'rio'"
   ]
  },
  {
   "cell_type": "markdown",
   "metadata": {},
   "source": [
    "### **Tuplas aninhadas**"
   ]
  },
  {
   "cell_type": "code",
   "execution_count": 2,
   "metadata": {},
   "outputs": [],
   "source": [
    "# Criação da tuplas aninhadas\n",
    "tupla1 = (2,4,5,(3,4,2),(2,1,9))"
   ]
  },
  {
   "cell_type": "markdown",
   "metadata": {},
   "source": [
    "Como podemos acessar o elemento 4 da primeira tupla aninhada??"
   ]
  },
  {
   "cell_type": "code",
   "execution_count": 3,
   "metadata": {},
   "outputs": [
    {
     "data": {
      "text/plain": [
       "4"
      ]
     },
     "execution_count": 3,
     "metadata": {},
     "output_type": "execute_result"
    }
   ],
   "source": [
    "# Acessando o elemento 4: Acessaremos a sublista da mesma forma que acessamos um vetor bidimensional\n",
    "tupla1[3][1]"
   ]
  },
  {
   "cell_type": "markdown",
   "metadata": {},
   "source": [
    "Algumas operações com tuplas:"
   ]
  },
  {
   "cell_type": "code",
   "execution_count": 5,
   "metadata": {},
   "outputs": [
    {
     "data": {
      "text/plain": [
       "(2, 4, 5, (3, 4, 2), (2, 1, 9), 2, 4, 5, (3, 4, 2), (2, 1, 9))"
      ]
     },
     "execution_count": 5,
     "metadata": {},
     "output_type": "execute_result"
    }
   ],
   "source": [
    "# Multiplicar uma tupla por 2 - Duplica todos os seus elementos \n",
    "tupla2 = tupla1 * 2\n",
    "tupla2"
   ]
  },
  {
   "cell_type": "code",
   "execution_count": 7,
   "metadata": {},
   "outputs": [
    {
     "data": {
      "text/plain": [
       "(1, 2, 3, 4, 5, 6)"
      ]
     },
     "execution_count": 7,
     "metadata": {},
     "output_type": "execute_result"
    }
   ],
   "source": [
    "# Concatenar tuplas \n",
    "tupla3 = (1,2,3) + (4,5,6)\n",
    "tupla3"
   ]
  },
  {
   "cell_type": "code",
   "execution_count": 9,
   "metadata": {},
   "outputs": [
    {
     "name": "stdout",
     "output_type": "stream",
     "text": [
      "False\n",
      "True\n"
     ]
    }
   ],
   "source": [
    "# Verificar se um dado elemento pertence a tupla:\n",
    "print('onca' in tupla2)\n",
    "print( 5 in tupla2)"
   ]
  },
  {
   "cell_type": "markdown",
   "metadata": {},
   "source": [
    "As tuplas também permitem de forma idêntica as listas a seleção de apenas uma parte de seus elementos:"
   ]
  },
  {
   "cell_type": "code",
   "execution_count": 12,
   "metadata": {},
   "outputs": [
    {
     "name": "stdout",
     "output_type": "stream",
     "text": [
      "tupla2 completa: (2, 4, 5, (3, 4, 2), (2, 1, 9), 2, 4, 5, (3, 4, 2), (2, 1, 9))\n",
      "tupla2 a partir do terceiro elemento: (5, (3, 4, 2), (2, 1, 9), 2, 4, 5, (3, 4, 2), (2, 1, 9))\n",
      "tupla2 até o sexto elemento: (2, 4, 5, (3, 4, 2), (2, 1, 9), 2)\n"
     ]
    }
   ],
   "source": [
    "print('tupla2 completa: {}'.format(tupla2[:]))\n",
    "print('tupla2 a partir do terceiro elemento: {}'.format(tupla2[2:]))\n",
    "print('tupla2 até o sexto elemento: {}'.format(tupla2[:6])) # O sexto não entra [0-5]"
   ]
  },
  {
   "cell_type": "markdown",
   "metadata": {},
   "source": [
    "### **Manipulação de tuplas** "
   ]
  },
  {
   "cell_type": "markdown",
   "metadata": {},
   "source": [
    "Alguns métodos disponíveis para manipulação de tuplas:"
   ]
  },
  {
   "cell_type": "code",
   "execution_count": 18,
   "metadata": {},
   "outputs": [],
   "source": [
    "# Criação de nova tupla para manipulação\n",
    "tupla3 = ('asa','casa','rua','cidade','céu','azul','chave','casa','lua','rua','pipa')"
   ]
  },
  {
   "cell_type": "code",
   "execution_count": 19,
   "metadata": {},
   "outputs": [
    {
     "name": "stdout",
     "output_type": "stream",
     "text": [
      "A palavra casa foi encontrada 2 vezes\n"
     ]
    }
   ],
   "source": [
    "#Pesquisar por um determinado valor\n",
    "print('A palavra {} foi encontrada {} vezes'.format('casa', tupla3.count('casa'))) # Conta quantas vezes a string está presente"
   ]
  },
  {
   "cell_type": "code",
   "execution_count": 21,
   "metadata": {},
   "outputs": [
    {
     "name": "stdout",
     "output_type": "stream",
     "text": [
      "3\n"
     ]
    }
   ],
   "source": [
    " # Retorna a posição (índice) do elemento procurado\n",
    "print(tupla3.index('cidade'))"
   ]
  },
  {
   "cell_type": "code",
   "execution_count": 22,
   "metadata": {},
   "outputs": [
    {
     "data": {
      "text/plain": [
       "11"
      ]
     },
     "execution_count": 22,
     "metadata": {},
     "output_type": "execute_result"
    }
   ],
   "source": [
    "# Retorna o tamanho da lista\n",
    "len(tupla3)"
   ]
  },
  {
   "cell_type": "code",
   "execution_count": 24,
   "metadata": {},
   "outputs": [
    {
     "name": "stdout",
     "output_type": "stream",
     "text": [
      "Maior valor da lista: rua\n",
      "Menor valor da lista: asa\n"
     ]
    }
   ],
   "source": [
    "# Encontrar o menor e o maior valor da lista\n",
    "print(\"Maior valor da lista: {}\".format(max(tupla3)))\n",
    "print(\"Menor valor da lista: {}\".format(min(tupla3)))"
   ]
  },
  {
   "cell_type": "code",
   "execution_count": 26,
   "metadata": {},
   "outputs": [
    {
     "name": "stdout",
     "output_type": "stream",
     "text": [
      "[2, 3, 4, 5, 'teste'] (2, 3, 4, 5, 'teste')\n"
     ]
    }
   ],
   "source": [
    "# Converter uma lista em tupla\n",
    "lista = [2,3,4,5,'teste']\n",
    "tupla_nova = tuple(lista)\n",
    "print(lista, tupla_nova)"
   ]
  }
 ],
 "metadata": {
  "kernelspec": {
   "display_name": "Python 3",
   "language": "python",
   "name": "python3"
  },
  "language_info": {
   "codemirror_mode": {
    "name": "ipython",
    "version": 3
   },
   "file_extension": ".py",
   "mimetype": "text/x-python",
   "name": "python",
   "nbconvert_exporter": "python",
   "pygments_lexer": "ipython3",
   "version": "3.7.2"
  }
 },
 "nbformat": 4,
 "nbformat_minor": 2
}
