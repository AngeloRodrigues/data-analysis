{
 "cells": [
  {
   "cell_type": "markdown",
   "metadata": {},
   "source": [
    "# Técnicas de Normalização de Dados"
   ]
  },
  {
   "cell_type": "markdown",
   "metadata": {},
   "source": [
    "O propósito da normalização é minimizar os problemas oriundos do uso de unidades e dispersões distintas entre as variáveis. Algumas ferramentas de modelização são beneficiadas com a\n",
    "Normalização (redes neurais, KNN, clustering)<br> Ronaldo Prati - [Data Preparation](http://professor.ufabc.edu.br/~ronaldo.prati/DataMining/DataPreparation.pdf)"
   ]
  },
  {
   "cell_type": "markdown",
   "metadata": {},
   "source": [
    "## Classe Normalizer ([Normalizer](https://scikit-learn.org/stable/modules/generated/sklearn.preprocessing.Normalizer.html#sklearn.preprocessing.Normalizer))"
   ]
  },
  {
   "cell_type": "markdown",
   "metadata": {},
   "source": [
    "Essa classe irá alterar a distribuição dos dados:"
   ]
  },
  {
   "cell_type": "code",
   "execution_count": 1,
   "metadata": {},
   "outputs": [],
   "source": [
    "#Importação de bibliotecas\n",
    "import numpy as np\n",
    "import seaborn as sns\n",
    "import pandas as pd\n",
    "import matplotlib.pyplot as plt\n",
    "from sklearn.preprocessing import Normalizer\n",
    "from sklearn.preprocessing import MinMaxScaler\n",
    "from sklearn.preprocessing import StandardScaler\n",
    "\n",
    "import warnings\n",
    "warnings.filterwarnings('ignore')"
   ]
  },
  {
   "cell_type": "code",
   "execution_count": 2,
   "metadata": {},
   "outputs": [],
   "source": [
    "dataset = [[2,5],[-6,7],[9,10],[-4,8],[5,7], [-1, 2], [0.5, 6],[0, 10],[1, 18]]"
   ]
  },
  {
   "cell_type": "markdown",
   "metadata": {},
   "source": [
    "Vamos calcular a média desses valores:"
   ]
  },
  {
   "cell_type": "code",
   "execution_count": 3,
   "metadata": {},
   "outputs": [
    {
     "data": {
      "text/plain": [
       "4.416666666666667"
      ]
     },
     "execution_count": 3,
     "metadata": {},
     "output_type": "execute_result"
    }
   ],
   "source": [
    "np.mean(dataset)"
   ]
  },
  {
   "cell_type": "markdown",
   "metadata": {},
   "source": [
    "Vamos visualizar como nossos dados estão distribuídos, mais especificamente o campo que contém o valor das compras realizadas: "
   ]
  },
  {
   "cell_type": "code",
   "execution_count": 4,
   "metadata": {},
   "outputs": [
    {
     "data": {
      "image/png": "[encoded data removed]",
      "text/plain": [
       "<Figure size 432x288 with 1 Axes>"
      ]
     },
     "metadata": {
      "needs_background": "light"
     },
     "output_type": "display_data"
    }
   ],
   "source": [
    "# Visualizar a distribuição dos valores\n",
    "sns.distplot(np.array(dataset).reshape(-1))\n",
    "plt.show()"
   ]
  },
  {
   "cell_type": "markdown",
   "metadata": {},
   "source": [
    "Criando o normalizador e alterando o formato dos dados para 1 linha e 18 colunas:"
   ]
  },
  {
   "cell_type": "code",
   "execution_count": 26,
   "metadata": {},
   "outputs": [
    {
     "data": {
      "text/plain": [
       "(1, 18)"
      ]
     },
     "execution_count": 26,
     "metadata": {},
     "output_type": "execute_result"
    }
   ],
   "source": [
    "# Instanciando o normalizador\n",
    "data = np.array(dataset).reshape(1,-1)\n",
    "data.shape"
   ]
  },
  {
   "cell_type": "markdown",
   "metadata": {},
   "source": [
    "Configrando o Normalizer com os dados a serem utilizados:"
   ]
  },
  {
   "cell_type": "code",
   "execution_count": 27,
   "metadata": {},
   "outputs": [],
   "source": [
    "normalizer = Normalizer().fit(data)"
   ]
  },
  {
   "cell_type": "code",
   "execution_count": 28,
   "metadata": {},
   "outputs": [
    {
     "data": {
      "text/plain": [
       "array([[ 0.06610893,  0.16527232, -0.19832679,  0.23138125,  0.29749018,\n",
       "         0.33054465, -0.13221786,  0.26443572,  0.16527232,  0.23138125,\n",
       "        -0.03305446,  0.06610893,  0.01652723,  0.19832679,  0.        ,\n",
       "         0.33054465,  0.03305446,  0.59498037]])"
      ]
     },
     "execution_count": 28,
     "metadata": {},
     "output_type": "execute_result"
    }
   ],
   "source": [
    "# Aplicando a normalização nos dados\n",
    "data2 = normalizer.transform(data)\n",
    "data2"
   ]
  },
  {
   "cell_type": "code",
   "execution_count": 29,
   "metadata": {},
   "outputs": [
    {
     "data": {
      "text/plain": [
       "0.14599055338113626"
      ]
     },
     "execution_count": 29,
     "metadata": {},
     "output_type": "execute_result"
    }
   ],
   "source": [
    "#  Valor da média dos dados normalizados\n",
    "np.mean(data2)"
   ]
  },
  {
   "cell_type": "code",
   "execution_count": 30,
   "metadata": {},
   "outputs": [
    {
     "data": {
      "image/png": "[encoded data removed]",
      "text/plain": [
       "<Figure size 432x288 with 1 Axes>"
      ]
     },
     "metadata": {
      "needs_background": "light"
     },
     "output_type": "display_data"
    }
   ],
   "source": [
    "# Visualizar a distribuição dos dados\n",
    "sns.distplot(np.array(data2).reshape(-1)) # Reshape transforma o array para um array em uma única dimensão\n",
    "plt.show()"
   ]
  },
  {
   "cell_type": "markdown",
   "metadata": {},
   "source": [
    "## MinMaxScaler - Técnica de Pré-Processamento"
   ]
  },
  {
   "cell_type": "markdown",
   "metadata": {},
   "source": [
    "**MinMaxScaler:** Padroniza os dados em uma mesma faixa de valores - Não altera sua distribuição"
   ]
  },
  {
   "cell_type": "code",
   "execution_count": 31,
   "metadata": {},
   "outputs": [
    {
     "data": {
      "text/plain": [
       "array([-0.6505748 , -1.40772097, -1.03478907,  0.2818717 , -1.52593298,\n",
       "       -0.46146993, -0.07920564, -0.84665079, -0.47762594,  1.11824355,\n",
       "        0.12937663, -0.21421391, -1.35900618,  0.94277163,  0.76328333,\n",
       "       -0.09458437,  0.39880732, -0.85360117,  1.61182887, -0.61046377,\n",
       "        0.61089692,  0.3360801 , -0.8298116 ,  0.66509924, -1.24151428,\n",
       "       -0.54351477,  2.06961303, -0.30586575, -0.28801901, -0.8976736 ,\n",
       "        1.46297662, -0.91616142, -0.15562632,  1.04272804, -1.3175034 ,\n",
       "       -1.67344567,  0.44959992,  1.44662092,  0.29327522,  1.54058015,\n",
       "       -0.02869521,  0.35740611,  2.24069583,  1.32995001,  0.58477335,\n",
       "        0.81800572,  0.37092091,  0.1400736 ,  0.25787923,  1.32683368])"
      ]
     },
     "execution_count": 31,
     "metadata": {},
     "output_type": "execute_result"
    }
   ],
   "source": [
    "# Gerando 50 valores aleatórios\n",
    "data = np.random.normal(size = 50)\n",
    "data"
   ]
  },
  {
   "cell_type": "markdown",
   "metadata": {},
   "source": [
    "Vamos visualizar sua distribuição:"
   ]
  },
  {
   "cell_type": "code",
   "execution_count": 32,
   "metadata": {},
   "outputs": [
    {
     "data": {
      "image/png": "[encoded data removed]",
      "text/plain": [
       "<Figure size 432x288 with 1 Axes>"
      ]
     },
     "metadata": {
      "needs_background": "light"
     },
     "output_type": "display_data"
    }
   ],
   "source": [
    "# Visualizar a distribuição dos dados\n",
    "sns.distplot(np.array(data).reshape(-1))\n",
    "plt.show()"
   ]
  },
  {
   "cell_type": "code",
   "execution_count": 33,
   "metadata": {},
   "outputs": [
    {
     "data": {
      "text/plain": [
       "MinMaxScaler(copy=True, feature_range=(0, 1))"
      ]
     },
     "execution_count": 33,
     "metadata": {},
     "output_type": "execute_result"
    }
   ],
   "source": [
    "data = data.reshape(1,-1) #Reshape nos dados para usar o MinMaxScaler\n",
    "scaler = MinMaxScaler().fit(data)\n",
    "scaler"
   ]
  },
  {
   "cell_type": "code",
   "execution_count": 20,
   "metadata": {},
   "outputs": [
    {
     "data": {
      "text/plain": [
       "array([[ 1.32221517],\n",
       "       [-0.51256417],\n",
       "       [-0.23993193],\n",
       "       [-0.02355923],\n",
       "       [ 0.2803807 ],\n",
       "       [-0.39997002],\n",
       "       [ 2.16461982],\n",
       "       [ 0.32436026],\n",
       "       [ 0.40487829],\n",
       "       [ 0.97703062],\n",
       "       [-2.19276496],\n",
       "       [-0.12617104],\n",
       "       [ 1.11864199],\n",
       "       [ 1.41794279],\n",
       "       [-1.03047991],\n",
       "       [-1.63796637],\n",
       "       [ 0.01115473],\n",
       "       [ 0.11914865],\n",
       "       [ 0.20925157],\n",
       "       [ 0.66655169],\n",
       "       [-0.45749168],\n",
       "       [ 1.65514466],\n",
       "       [-1.2556581 ],\n",
       "       [ 0.6335009 ],\n",
       "       [-1.66576469],\n",
       "       [-0.13569849],\n",
       "       [-1.0644365 ],\n",
       "       [-0.39373046],\n",
       "       [-0.66527945],\n",
       "       [ 0.35893093],\n",
       "       [-1.77052364],\n",
       "       [-0.49625133],\n",
       "       [-0.82605811],\n",
       "       [ 0.12196801],\n",
       "       [ 0.66201861],\n",
       "       [ 0.86211616],\n",
       "       [-0.01496057],\n",
       "       [ 1.94258058],\n",
       "       [-1.26670245],\n",
       "       [ 1.59931111],\n",
       "       [-0.04683151],\n",
       "       [ 1.29319036],\n",
       "       [ 0.89429586],\n",
       "       [-1.23575731],\n",
       "       [ 0.23942779],\n",
       "       [-1.1718084 ],\n",
       "       [ 0.24028179],\n",
       "       [-0.35062104],\n",
       "       [ 0.40817524],\n",
       "       [-0.94613693]])"
      ]
     },
     "execution_count": 20,
     "metadata": {},
     "output_type": "execute_result"
    }
   ],
   "source": [
    "# Aplicando a normalização nos dados\n",
    "data2 = scaler.transform(data)\n",
    "data2"
   ]
  },
  {
   "cell_type": "code",
   "execution_count": 34,
   "metadata": {},
   "outputs": [
    {
     "data": {
      "image/png": "[encoded data removed]",
      "text/plain": [
       "<Figure size 432x288 with 1 Axes>"
      ]
     },
     "metadata": {
      "needs_background": "light"
     },
     "output_type": "display_data"
    }
   ],
   "source": [
    "# Não muda a forma do gráfico, mudará apenas a escala de valores - Padroniza esses valores)\n",
    "sns.distplot(np.array(data2).reshape(-1))\n",
    "plt.show()"
   ]
  },
  {
   "cell_type": "markdown",
   "metadata": {},
   "source": [
    "## StandardScaler - Técnica de Pré-Processamento"
   ]
  },
  {
   "cell_type": "markdown",
   "metadata": {},
   "source": [
    "* Padroniza a escala dos dados sem interferir na sua forma\n",
    "\n",
    "* Mantém a escala dos dados mais fiel que a Técnica MinMaxScaler"
   ]
  },
  {
   "cell_type": "code",
   "execution_count": 35,
   "metadata": {},
   "outputs": [
    {
     "data": {
      "text/plain": [
       "array([ 1.20347068,  0.40927849,  1.1514665 ,  0.23270136, -0.55441796,\n",
       "       -0.88069327,  0.9577648 , -0.90700919,  1.52033614, -0.92594204,\n",
       "        1.01492786, -2.14839066,  1.44380221,  0.53037426, -2.34344583,\n",
       "        0.07420538,  0.40759403,  0.67994892,  1.12585711, -0.67442373,\n",
       "        0.65631649, -1.10614924, -0.21608982, -0.39744465,  0.29624349,\n",
       "        0.23681497,  0.24752522,  0.16835579,  0.24050943,  0.58455182,\n",
       "        0.02295287,  1.73544577, -0.96331633,  0.1760115 ,  1.3829097 ,\n",
       "        0.60655167, -1.76363845, -0.33396877, -1.69604312,  1.64681075,\n",
       "        0.96393243,  0.80524622, -0.61363533, -0.19012426, -1.34270846,\n",
       "        0.3348447 ,  0.9796355 , -0.69771732,  1.08166074, -0.89478909])"
      ]
     },
     "execution_count": 35,
     "metadata": {},
     "output_type": "execute_result"
    }
   ],
   "source": [
    "# Obtendo dados randômicos para o pré processamento\n",
    "data = np.random.normal(size = 50)\n",
    "data"
   ]
  },
  {
   "cell_type": "code",
   "execution_count": 36,
   "metadata": {},
   "outputs": [
    {
     "data": {
      "image/png": "[encoded data removed]",
      "text/plain": [
       "<Figure size 432x288 with 1 Axes>"
      ]
     },
     "metadata": {
      "needs_background": "light"
     },
     "output_type": "display_data"
    }
   ],
   "source": [
    "sns.distplot(np.array(data).reshape(-1))\n",
    "plt.show()"
   ]
  },
  {
   "cell_type": "code",
   "execution_count": 37,
   "metadata": {},
   "outputs": [],
   "source": [
    "data = data.reshape(-1,1) #Reshape nos dados para usar o StandardScaler\n",
    "scaler = StandardScaler().fit(data)"
   ]
  },
  {
   "cell_type": "code",
   "execution_count": 39,
   "metadata": {},
   "outputs": [
    {
     "name": "stdout",
     "output_type": "stream",
     "text": [
      "[[ 1.12534057]\n",
      " [ 0.32601158]\n",
      " [ 1.07300003]\n",
      " [ 0.14829236]\n",
      " [-0.64391801]\n",
      " [-0.97230366]\n",
      " [ 0.87804548]\n",
      " [-0.99878979]\n",
      " [ 1.44425551]\n",
      " [-1.0178451 ]\n",
      " [ 0.93557827]\n",
      " [-2.24820046]\n",
      " [ 1.36722656]\n",
      " [ 0.4478906 ]\n",
      " [-2.44451724]\n",
      " [-0.01122877]\n",
      " [ 0.32431623]\n",
      " [ 0.5984327 ]\n",
      " [ 1.04722501]\n",
      " [-0.76469997]\n",
      " [ 0.57464741]\n",
      " [-1.19921787]\n",
      " [-0.30340159]\n",
      " [-0.48592941]\n",
      " [ 0.21224548]\n",
      " [ 0.15243257]\n",
      " [ 0.1632121 ]\n",
      " [ 0.08353061]\n",
      " [ 0.15615093]\n",
      " [ 0.50241857]\n",
      " [-0.06281278]\n",
      " [ 1.66075646]\n",
      " [-1.05546112]\n",
      " [ 0.09123583]\n",
      " [ 1.3059402 ]\n",
      " [ 0.52456071]\n",
      " [-1.86095969]\n",
      " [-0.42204297]\n",
      " [-1.79292716]\n",
      " [ 1.57154814]\n",
      " [ 0.884253  ]\n",
      " [ 0.72454041]\n",
      " [-0.7035184 ]\n",
      " [-0.27726808]\n",
      " [-1.43730714]\n",
      " [ 0.25109636]\n",
      " [ 0.90005763]\n",
      " [-0.78814422]\n",
      " [ 1.00274277]\n",
      " [-0.98649065]]\n"
     ]
    }
   ],
   "source": [
    "data_scaled = scaler.transform(data)\n",
    "print(data_scaled)"
   ]
  },
  {
   "cell_type": "code",
   "execution_count": 40,
   "metadata": {},
   "outputs": [
    {
     "data": {
      "image/png": "[encoded data removed]",
      "text/plain": [
       "<Figure size 432x288 with 1 Axes>"
      ]
     },
     "metadata": {
      "needs_background": "light"
     },
     "output_type": "display_data"
    }
   ],
   "source": [
    "sns.distplot(np.array(data_scaled).reshape(-1))\n",
    "plt.show()"
   ]
  }
 ],
 "metadata": {
  "kernelspec": {
   "display_name": "Python 3",
   "language": "python",
   "name": "python3"
  },
  "language_info": {
   "codemirror_mode": {
    "name": "ipython",
    "version": 3
   },
   "file_extension": ".py",
   "mimetype": "text/x-python",
   "name": "python",
   "nbconvert_exporter": "python",
   "pygments_lexer": "ipython3",
   "version": "3.7.2"
  }
 },
 "nbformat": 4,
 "nbformat_minor": 2
}
