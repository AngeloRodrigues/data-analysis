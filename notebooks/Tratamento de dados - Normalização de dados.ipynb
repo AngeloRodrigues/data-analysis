{
 "cells": [
  {
   "cell_type": "markdown",
   "metadata": {},
   "source": [
    "# Técnicas de Normalização de Dados"
   ]
  },
  {
   "cell_type": "markdown",
   "metadata": {},
   "source": [
    "O propósito da normalização é minimizar os problemas oriundos do uso de unidades e dispersões distintas entre as variáveis. Algumas ferramentas de modelização são beneficiadas com a\n",
    "Normalização (redes neurais, KNN, clustering)<br> Ronaldo Prati - [Data Preparation](http://professor.ufabc.edu.br/~ronaldo.prati/DataMining/DataPreparation.pdf)"
   ]
  },
  {
   "cell_type": "markdown",
   "metadata": {},
   "source": [
    "## Classe Normalizer ([Normalizer](https://scikit-learn.org/stable/modules/generated/sklearn.preprocessing.Normalizer.html#sklearn.preprocessing.Normalizer))"
   ]
  },
  {
   "cell_type": "markdown",
   "metadata": {},
   "source": [
    "Essa classe irá alterar a distribuição dos dados:"
   ]
  },
  {
   "cell_type": "code",
   "execution_count": 1,
   "metadata": {},
   "outputs": [],
   "source": [
    "#Importação de bibliotecas\n",
    "import numpy as np\n",
    "import seaborn as sns\n",
    "import pandas as pd\n",
    "import matplotlib.pyplot as plt\n",
    "from sklearn.preprocessing import Normalizer\n",
    "from sklearn.preprocessing import MinMaxScaler\n",
    "from sklearn.preprocessing import StandardScaler\n",
    "\n",
    "import warnings\n",
    "warnings.filterwarnings('ignore')"
   ]
  },
  {
   "cell_type": "code",
   "execution_count": 2,
   "metadata": {},
   "outputs": [],
   "source": [
    "dataset = [[2,5],[-6,7],[9,10],[-4,8],[5,7], [-1, 2], [0.5, 6],[0, 10],[1, 18]]"
   ]
  },
  {
   "cell_type": "markdown",
   "metadata": {},
   "source": [
    "Vamos calcular a média desses valores:"
   ]
  },
  {
   "cell_type": "code",
   "execution_count": 3,
   "metadata": {},
   "outputs": [
    {
     "data": {
      "text/plain": [
       "4.416666666666667"
      ]
     },
     "execution_count": 3,
     "metadata": {},
     "output_type": "execute_result"
    }
   ],
   "source": [
    "np.mean(dataset)"
   ]
  },
  {
   "cell_type": "markdown",
   "metadata": {},
   "source": [
    "Vamos visualizar como nossos dados estão distribuídos, mais especificamente o campo que contém o valor das compras realizadas: "
   ]
  },
  {
   "cell_type": "code",
   "execution_count": 4,
   "metadata": {},
   "outputs": [
    {
     "data": {
      "image/png": "[encoded data removed]",
      "text/plain": [
       "<Figure size 432x288 with 1 Axes>"
      ]
     },
     "metadata": {
      "needs_background": "light"
     },
     "output_type": "display_data"
    }
   ],
   "source": [
    "# Visualizar a distribuição dos valores\n",
    "sns.distplot(np.array(dataset).reshape(-1))\n",
    "plt.show()"
   ]
  },
  {
   "cell_type": "markdown",
   "metadata": {},
   "source": [
    "Criando o normalizador e alterando o formato dos dados para 1 linha e 18 colunas:"
   ]
  },
  {
   "cell_type": "code",
   "execution_count": 5,
   "metadata": {},
   "outputs": [
    {
     "data": {
      "text/plain": [
       "(1, 18)"
      ]
     },
     "execution_count": 5,
     "metadata": {},
     "output_type": "execute_result"
    }
   ],
   "source": [
    "# Instanciando o normalizador\n",
    "data = np.array(dataset).reshape(1,-1)\n",
    "data.shape"
   ]
  },
  {
   "cell_type": "markdown",
   "metadata": {},
   "source": [
    "Configrando o Normalizer com os dados a serem utilizados:"
   ]
  },
  {
   "cell_type": "code",
   "execution_count": 6,
   "metadata": {},
   "outputs": [],
   "source": [
    "normalizer = Normalizer().fit(data)"
   ]
  },
  {
   "cell_type": "code",
   "execution_count": 7,
   "metadata": {},
   "outputs": [
    {
     "data": {
      "text/plain": [
       "array([[ 0.06610893,  0.16527232, -0.19832679,  0.23138125,  0.29749018,\n",
       "         0.33054465, -0.13221786,  0.26443572,  0.16527232,  0.23138125,\n",
       "        -0.03305446,  0.06610893,  0.01652723,  0.19832679,  0.        ,\n",
       "         0.33054465,  0.03305446,  0.59498037]])"
      ]
     },
     "execution_count": 7,
     "metadata": {},
     "output_type": "execute_result"
    }
   ],
   "source": [
    "# Aplicando a normalização nos dados\n",
    "data2 = normalizer.transform(data)\n",
    "data2"
   ]
  },
  {
   "cell_type": "code",
   "execution_count": 8,
   "metadata": {},
   "outputs": [
    {
     "data": {
      "text/plain": [
       "0.14599055338113626"
      ]
     },
     "execution_count": 8,
     "metadata": {},
     "output_type": "execute_result"
    }
   ],
   "source": [
    "#  Valor da média dos dados normalizados\n",
    "np.mean(data2)"
   ]
  },
  {
   "cell_type": "code",
   "execution_count": 9,
   "metadata": {},
   "outputs": [
    {
     "data": {
      "image/png": "[encoded data removed]",
      "text/plain": [
       "<Figure size 432x288 with 1 Axes>"
      ]
     },
     "metadata": {
      "needs_background": "light"
     },
     "output_type": "display_data"
    }
   ],
   "source": [
    "# Visualizar a distribuição dos dados\n",
    "sns.distplot(np.array(data2).reshape(-1)) # Reshape transforma o array para um array em uma única dimensão\n",
    "plt.show()"
   ]
  },
  {
   "cell_type": "markdown",
   "metadata": {},
   "source": [
    "## MinMaxScaler - Técnica de Pré-Processamento"
   ]
  },
  {
   "cell_type": "markdown",
   "metadata": {},
   "source": [
    "**MinMaxScaler:** Padroniza os dados em uma mesma faixa de valores - Não altera sua distribuição"
   ]
  },
  {
   "cell_type": "code",
   "execution_count": 23,
   "metadata": {},
   "outputs": [
    {
     "data": {
      "text/plain": [
       "array([-0.73344544,  0.59586573, -1.56385939, -1.10385809,  1.47646923,\n",
       "       -0.05442641, -0.68561277, -2.58037724,  0.76254334,  0.54866007,\n",
       "        0.47143294,  0.65391304,  0.09256459, -0.87988006,  1.05132231,\n",
       "        0.20673529, -1.44093226,  0.44223901,  2.57409944, -1.08764388,\n",
       "        0.18813806,  0.06411287, -0.4647736 , -0.27380446,  0.59046485,\n",
       "       -0.7673545 , -1.30426686, -0.37895203,  0.34054507, -0.14624055,\n",
       "        1.47418014,  0.57882618,  0.24477489, -1.54534941,  0.32978379,\n",
       "       -1.50360164,  0.81905452,  0.90259302,  0.64374502, -0.30957708,\n",
       "        1.42365592,  0.22868243,  0.37403824, -1.15143521, -1.20469484,\n",
       "       -0.44221222,  1.71548176, -0.454486  ,  1.47999287, -0.46058153])"
      ]
     },
     "execution_count": 23,
     "metadata": {},
     "output_type": "execute_result"
    }
   ],
   "source": [
    "# Gerando 50 valores aleatórios\n",
    "data = np.random.normal(size = 50)\n",
    "data"
   ]
  },
  {
   "cell_type": "markdown",
   "metadata": {},
   "source": [
    "Vamos visualizar sua distribuição:"
   ]
  },
  {
   "cell_type": "code",
   "execution_count": 24,
   "metadata": {},
   "outputs": [
    {
     "data": {
      "image/png": "[encoded data removed]",
      "text/plain": [
       "<Figure size 432x288 with 1 Axes>"
      ]
     },
     "metadata": {
      "needs_background": "light"
     },
     "output_type": "display_data"
    }
   ],
   "source": [
    "# Visualizar a distribuição dos dados\n",
    "sns.distplot(np.array(data).reshape(-1))\n",
    "plt.show()"
   ]
  },
  {
   "cell_type": "code",
   "execution_count": 33,
   "metadata": {},
   "outputs": [
    {
     "data": {
      "text/plain": [
       "MinMaxScaler(copy=True, feature_range=(0, 1))"
      ]
     },
     "execution_count": 33,
     "metadata": {},
     "output_type": "execute_result"
    }
   ],
   "source": [
    "data = data.reshape(-1,1) #Reshape nos dados para usar o MinMaxScaler\n",
    "scaler = MinMaxScaler().fit(data)\n",
    "scaler"
   ]
  },
  {
   "cell_type": "code",
   "execution_count": 34,
   "metadata": {},
   "outputs": [
    {
     "data": {
      "text/plain": [
       "array([[0.35831606],\n",
       "       [0.61621056],\n",
       "       [0.19721068],\n",
       "       [0.28645375],\n",
       "       [0.78705303],\n",
       "       [0.49004991],\n",
       "       [0.36759589],\n",
       "       [0.        ],\n",
       "       [0.64854704],\n",
       "       [0.60705238],\n",
       "       [0.59206984],\n",
       "       [0.6274721 ],\n",
       "       [0.51856706],\n",
       "       [0.32990685],\n",
       "       [0.70457192],\n",
       "       [0.54071688],\n",
       "       [0.22105929],\n",
       "       [0.58640604],\n",
       "       [1.        ],\n",
       "       [0.2895994 ],\n",
       "       [0.5371089 ],\n",
       "       [0.51304726],\n",
       "       [0.41044004],\n",
       "       [0.44748923],\n",
       "       [0.61516276],\n",
       "       [0.3517375 ],\n",
       "       [0.24757322],\n",
       "       [0.42708995],\n",
       "       [0.56667679],\n",
       "       [0.47223741],\n",
       "       [0.78660893],\n",
       "       [0.61290478],\n",
       "       [0.54809679],\n",
       "       [0.20080173],\n",
       "       [0.56458904],\n",
       "       [0.20890105],\n",
       "       [0.65951055],\n",
       "       [0.67571753],\n",
       "       [0.62549944],\n",
       "       [0.44054912],\n",
       "       [0.77680692],\n",
       "       [0.54497476],\n",
       "       [0.57317467],\n",
       "       [0.27722349],\n",
       "       [0.2668908 ],\n",
       "       [0.41481709],\n",
       "       [0.83342292],\n",
       "       [0.4124359 ],\n",
       "       [0.78773663],\n",
       "       [0.41125333]])"
      ]
     },
     "execution_count": 34,
     "metadata": {},
     "output_type": "execute_result"
    }
   ],
   "source": [
    "# Aplicando a normalização nos dados\n",
    "data2 = scaler.transform(data)\n",
    "data2"
   ]
  },
  {
   "cell_type": "code",
   "execution_count": 35,
   "metadata": {},
   "outputs": [
    {
     "data": {
      "image/png": "[encoded data removed]",
      "text/plain": [
       "<Figure size 432x288 with 1 Axes>"
      ]
     },
     "metadata": {
      "needs_background": "light"
     },
     "output_type": "display_data"
    }
   ],
   "source": [
    "# Não muda a forma do gráfico, mudará apenas a escala de valores - Padroniza esses valores)\n",
    "sns.distplot(np.array(data2).reshape(-1))\n",
    "plt.show()"
   ]
  },
  {
   "cell_type": "markdown",
   "metadata": {},
   "source": [
    "## StandardScaler - Técnica de Pré-Processamento"
   ]
  },
  {
   "cell_type": "markdown",
   "metadata": {},
   "source": [
    "* Padroniza a escala dos dados sem interferir na sua forma\n",
    "\n",
    "* Mantém a escala dos dados mais fiel que a Técnica MinMaxScaler"
   ]
  },
  {
   "cell_type": "code",
   "execution_count": 15,
   "metadata": {},
   "outputs": [
    {
     "data": {
      "text/plain": [
       "array([-1.23998288,  0.05642003, -1.73064178,  1.4889765 ,  1.12388487,\n",
       "       -0.78299517,  0.67802245, -0.92286708, -1.11053379, -0.80284489,\n",
       "       -1.25292747, -0.55829862, -0.93261748, -0.44405186, -0.14012484,\n",
       "       -0.56634465, -0.63450213,  1.00540806, -1.33269759, -0.63788094,\n",
       "        0.52769421,  1.16858382, -0.98361776,  1.08346378, -0.25359237,\n",
       "       -0.36735991,  0.45651021, -0.29155837, -0.39470551,  1.21304685,\n",
       "        1.24627392, -0.77365123,  0.95211347, -0.42095577, -2.32284311,\n",
       "       -0.43277663, -1.28282854, -1.64834422,  0.26506183, -0.02829019,\n",
       "        1.15071652, -0.22804911, -1.810442  ,  0.73278272,  0.71629668,\n",
       "        0.28979656,  0.08803425, -0.23667677, -0.08953304,  0.61620045])"
      ]
     },
     "execution_count": 15,
     "metadata": {},
     "output_type": "execute_result"
    }
   ],
   "source": [
    "# Obtendo dados randômicos para o pré processamento\n",
    "data = np.random.normal(size = 50)\n",
    "data"
   ]
  },
  {
   "cell_type": "code",
   "execution_count": 16,
   "metadata": {},
   "outputs": [
    {
     "data": {
      "image/png": "[encoded data removed]",
      "text/plain": [
       "<Figure size 432x288 with 1 Axes>"
      ]
     },
     "metadata": {
      "needs_background": "light"
     },
     "output_type": "display_data"
    }
   ],
   "source": [
    "sns.distplot(np.array(data).reshape(-1))\n",
    "plt.show()"
   ]
  },
  {
   "cell_type": "code",
   "execution_count": 17,
   "metadata": {},
   "outputs": [],
   "source": [
    "data = data.reshape(-1,1) #Reshape nos dados para usar o StandardScaler\n",
    "scaler = StandardScaler().fit(data)"
   ]
  },
  {
   "cell_type": "code",
   "execution_count": 18,
   "metadata": {},
   "outputs": [
    {
     "name": "stdout",
     "output_type": "stream",
     "text": [
      "[[-1.13672809]\n",
      " [ 0.27471601]\n",
      " [-1.67092745]\n",
      " [ 1.83439577]\n",
      " [ 1.43690636]\n",
      " [-0.63918786]\n",
      " [ 0.95147866]\n",
      " [-0.79147183]\n",
      " [-0.99579185]\n",
      " [-0.66079902]\n",
      " [-1.15082137]\n",
      " [-0.39455201]\n",
      " [-0.80208747]\n",
      " [-0.27016714]\n",
      " [ 0.06072999]\n",
      " [-0.40331203]\n",
      " [-0.47751772]\n",
      " [ 1.30791606]\n",
      " [-1.23767019]\n",
      " [-0.48119637]\n",
      " [ 0.78781048]\n",
      " [ 1.48557183]\n",
      " [-0.85761345]\n",
      " [ 1.39289835]\n",
      " [-0.06280651]\n",
      " [-0.18666964]\n",
      " [ 0.7103097 ]\n",
      " [-0.10414156]\n",
      " [-0.21644185]\n",
      " [ 1.53398046]\n",
      " [ 1.57015606]\n",
      " [-0.62901475]\n",
      " [ 1.24989217]\n",
      " [-0.24502152]\n",
      " [-2.31568   ]\n",
      " [-0.25789135]\n",
      " [-1.18337582]\n",
      " [-1.58132691]\n",
      " [ 0.50187242]\n",
      " [ 0.18248871]\n",
      " [ 1.46611902]\n",
      " [-0.03499658]\n",
      " [-1.75780905]\n",
      " [ 1.01109828]\n",
      " [ 0.9931493 ]\n",
      " [ 0.52880208]\n",
      " [ 0.30913563]\n",
      " [-0.04438983]\n",
      " [ 0.11581125]\n",
      " [ 0.88417065]]\n"
     ]
    }
   ],
   "source": [
    "data_scaled = scaler.transform(data)\n",
    "print(data_scaled)"
   ]
  },
  {
   "cell_type": "code",
   "execution_count": 19,
   "metadata": {},
   "outputs": [
    {
     "data": {
      "image/png": "[encoded data removed]",
      "text/plain": [
       "<Figure size 432x288 with 1 Axes>"
      ]
     },
     "metadata": {
      "needs_background": "light"
     },
     "output_type": "display_data"
    }
   ],
   "source": [
    "sns.distplot(np.array(data_scaled).reshape(-1))\n",
    "plt.show()"
   ]
  }
 ],
 "metadata": {
  "kernelspec": {
   "display_name": "Python 3",
   "language": "python",
   "name": "python3"
  },
  "language_info": {
   "codemirror_mode": {
    "name": "ipython",
    "version": 3
   },
   "file_extension": ".py",
   "mimetype": "text/x-python",
   "name": "python",
   "nbconvert_exporter": "python",
   "pygments_lexer": "ipython3",
   "version": "3.7.0"
  }
 },
 "nbformat": 4,
 "nbformat_minor": 2
}
