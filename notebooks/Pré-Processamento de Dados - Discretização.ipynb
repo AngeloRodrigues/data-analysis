{
 "cells": [
  {
   "cell_type": "markdown",
   "metadata": {},
   "source": [
    "## Pré-Processamento de dados - Discretização"
   ]
  },
  {
   "cell_type": "markdown",
   "metadata": {},
   "source": [
    "Na área de estatística e matemática o termo é utilizado para expressar a individualização (discretização) de uma unidade contínua em unidades individuais (discretas). Ou seja, separar os valores em faixas e categorizá-los."
   ]
  },
  {
   "cell_type": "code",
   "execution_count": 1,
   "metadata": {},
   "outputs": [],
   "source": [
    "#Importação de bibliotecas\n",
    "import numpy as np\n",
    "import seaborn as sns\n",
    "import pandas as pd\n",
    "import matplotlib.pyplot as plt"
   ]
  },
  {
   "cell_type": "markdown",
   "metadata": {},
   "source": [
    "Usando o dataset **attention** do seaborn:"
   ]
  },
  {
   "cell_type": "code",
   "execution_count": 2,
   "metadata": {},
   "outputs": [],
   "source": [
    "# Leitura dos dados do dataset\n",
    "sns.set(style=\"whitegrid\")\n",
    "dataset = sns.load_dataset(\"attention\")"
   ]
  },
  {
   "cell_type": "markdown",
   "metadata": {},
   "source": [
    "Diferença dos métodos **cut** e **qcut** do pandas: O método _**qcut**_ é usado quando temos amostras de dados como quartis, ou médias e esses dados estão distribuídos igualmente. Já o _**cut**_ aceita bins (grupos) menores e mais espaçados com diferença nas suas quantidades de elementos."
   ]
  },
  {
   "cell_type": "code",
   "execution_count": 3,
   "metadata": {},
   "outputs": [
    {
     "data": {
      "text/plain": [
       "0      Nota ruim\n",
       "1      Nota ruim\n",
       "2      Nota ruim\n",
       "3      Nota ruim\n",
       "4      Nota ruim\n",
       "5      Nota ruim\n",
       "6      Nota ruim\n",
       "7      Nota ruim\n",
       "8      Nota ruim\n",
       "9     Nota média\n",
       "10    Nota média\n",
       "11      Nota boa\n",
       "12    Nota média\n",
       "13      Nota boa\n",
       "14      Nota boa\n",
       "15    Nota média\n",
       "16    Nota média\n",
       "17    Nota média\n",
       "18     Nota ruim\n",
       "19    Nota média\n",
       "20     Nota ruim\n",
       "21     Nota ruim\n",
       "22     Nota ruim\n",
       "23    Nota média\n",
       "24     Nota ruim\n",
       "25     Nota ruim\n",
       "26     Nota ruim\n",
       "27    Nota média\n",
       "28     Nota ruim\n",
       "29     Nota ruim\n",
       "30     Nota ruim\n",
       "31      Nota boa\n",
       "32     Nota ruim\n",
       "33      Nota boa\n",
       "34      Nota boa\n",
       "35      Nota boa\n",
       "36    Nota média\n",
       "37      Nota boa\n",
       "38    Nota média\n",
       "39    Nota média\n",
       "40    Nota média\n",
       "41     Nota ruim\n",
       "42    Nota média\n",
       "43     Nota ruim\n",
       "44      Nota boa\n",
       "45    Nota média\n",
       "46    Nota média\n",
       "47      Nota boa\n",
       "48    Nota média\n",
       "49    Nota média\n",
       "50    Nota média\n",
       "51      Nota boa\n",
       "52      Nota boa\n",
       "53    Nota média\n",
       "54    Nota média\n",
       "55    Nota média\n",
       "56    Nota média\n",
       "57    Nota média\n",
       "58    Nota média\n",
       "59     Nota ruim\n",
       "Name: score, dtype: category\n",
       "Categories (3, object): [Nota ruim < Nota média < Nota boa]"
      ]
     },
     "execution_count": 3,
     "metadata": {},
     "output_type": "execute_result"
    }
   ],
   "source": [
    "# Aplicando a discretização dos dados \n",
    "notas = pd.qcut(dataset['score'],3,labels=['Nota ruim','Nota média','Nota boa'])\n",
    "notas"
   ]
  },
  {
   "cell_type": "code",
   "execution_count": 4,
   "metadata": {},
   "outputs": [
    {
     "data": {
      "text/plain": [
       "Nota média    25\n",
       "Nota ruim     23\n",
       "Nota boa      12\n",
       "Name: score, dtype: int64"
      ]
     },
     "execution_count": 4,
     "metadata": {},
     "output_type": "execute_result"
    }
   ],
   "source": [
    "# Verificar a quantidade de elementos em cada categoria\n",
    "notas.value_counts()"
   ]
  },
  {
   "cell_type": "markdown",
   "metadata": {},
   "source": [
    "Depois podemos utilizar esses dados em um gráfico, por exemplo:"
   ]
  },
  {
   "cell_type": "code",
   "execution_count": 5,
   "metadata": {},
   "outputs": [
    {
     "data": {
      "text/plain": [
       "<matplotlib.axes._subplots.AxesSubplot at 0x2344859d908>"
      ]
     },
     "execution_count": 5,
     "metadata": {},
     "output_type": "execute_result"
    },
    {
     "data": {
      "image/png": "[encoded data removed]",
      "text/plain": [
       "<Figure size 432x288 with 1 Axes>"
      ]
     },
     "metadata": {},
     "output_type": "display_data"
    }
   ],
   "source": [
    "notas.value_counts().plot(kind='bar')"
   ]
  }
 ],
 "metadata": {
  "kernelspec": {
   "display_name": "Python 3",
   "language": "python",
   "name": "python3"
  },
  "language_info": {
   "codemirror_mode": {
    "name": "ipython",
    "version": 3
   },
   "file_extension": ".py",
   "mimetype": "text/x-python",
   "name": "python",
   "nbconvert_exporter": "python",
   "pygments_lexer": "ipython3",
   "version": "3.7.0"
  }
 },
 "nbformat": 4,
 "nbformat_minor": 2
}
